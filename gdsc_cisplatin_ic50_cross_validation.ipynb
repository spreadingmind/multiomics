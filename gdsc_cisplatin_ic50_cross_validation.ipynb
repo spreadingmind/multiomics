{
 "cells": [
  {
   "cell_type": "code",
   "execution_count": 1,
   "metadata": {},
   "outputs": [],
   "source": [
    "%reload_ext autoreload"
   ]
  },
  {
   "cell_type": "code",
   "execution_count": 2,
   "metadata": {},
   "outputs": [
    {
     "name": "stderr",
     "output_type": "stream",
     "text": [
      "2024-05-21 18:10:34.883151: I tensorflow/core/util/port.cc:113] oneDNN custom operations are on. You may see slightly different numerical results due to floating-point round-off errors from different computation orders. To turn them off, set the environment variable `TF_ENABLE_ONEDNN_OPTS=0`.\n",
      "2024-05-21 18:10:34.935373: E external/local_xla/xla/stream_executor/cuda/cuda_dnn.cc:9261] Unable to register cuDNN factory: Attempting to register factory for plugin cuDNN when one has already been registered\n",
      "2024-05-21 18:10:34.935420: E external/local_xla/xla/stream_executor/cuda/cuda_fft.cc:607] Unable to register cuFFT factory: Attempting to register factory for plugin cuFFT when one has already been registered\n",
      "2024-05-21 18:10:34.936805: E external/local_xla/xla/stream_executor/cuda/cuda_blas.cc:1515] Unable to register cuBLAS factory: Attempting to register factory for plugin cuBLAS when one has already been registered\n",
      "2024-05-21 18:10:34.945655: I tensorflow/core/platform/cpu_feature_guard.cc:182] This TensorFlow binary is optimized to use available CPU instructions in performance-critical operations.\n",
      "To enable the following instructions: AVX2 AVX512F AVX512_VNNI FMA, in other operations, rebuild TensorFlow with the appropriate compiler flags.\n",
      "2024-05-21 18:10:36.146920: W tensorflow/compiler/tf2tensorrt/utils/py_utils.cc:38] TF-TRT Warning: Could not find TensorRT\n"
     ]
    }
   ],
   "source": [
    "%autoreload\n",
    "import pandas as pd\n",
    "import numpy as np\n",
    "import matplotlib.pyplot as plt\n",
    "import seaborn as sns\n",
    "from mvlearn.embed import MCCA\n",
    "import umap\n",
    "\n",
    "from sklearn.decomposition import PCA\n",
    "\n",
    "from IPython.display import clear_output\n",
    "\n",
    "import sys\n",
    "sys.path.append(\"..\")\n",
    "\n",
    "from src.mofa_utils import train_mofa\n",
    "from src.tcga_preprocess_utils import split_patients_for_target_prediction\n",
    "from src.constants import RANDOM_STATE\n",
    "from src.pipelines import regression_pipeline_gdsc_cv\n",
    "from src.autoencoder import EncoderPipeline\n",
    "\n",
    "import os\n",
    "os.environ[\"CUDA_VISIBLE_DEVICES\"] = \"0\" "
   ]
  },
  {
   "cell_type": "markdown",
   "metadata": {},
   "source": [
    "Загружаем обработанные данные по раку груди, выживаемости и клинические данные. Всего после предобработки - 620 пациентов. Делаем разделение на трейн и тест, в которые попадают одни и те же пациенты - для каждой модели."
   ]
  },
  {
   "cell_type": "code",
   "execution_count": 3,
   "metadata": {},
   "outputs": [],
   "source": [
    "drug_response_data = pd.read_csv('data/gdsc/cisplatin/target.csv', index_col=[0]).reset_index().rename(columns={'index': 'DepMap_ID'})\n",
    "\n",
    "expression = pd.read_csv('data/gdsc/cisplatin/expression.csv', index_col=[0]).reset_index(drop=True)\n",
    "copy_number = pd.read_csv('data/gdsc/cisplatin/copy-number.csv', index_col=[0]).reset_index(drop=True)\n",
    "mutation = pd.read_csv('data/gdsc/cisplatin/mutations.csv', index_col=[0]).reset_index(drop=True)\n",
    "mutation_onehot = pd.read_csv('data/gdsc/cisplatin/mutations-one-hot.csv', index_col=[0]).reset_index(drop=True)\n",
    "\n",
    "mofa_data = pd.read_csv('data/gdsc/cisplatin/gdsc_mofa.csv', index_col=[0]).reset_index().rename(columns={'index': 'DepMap_ID'})"
   ]
  },
  {
   "cell_type": "code",
   "execution_count": 4,
   "metadata": {},
   "outputs": [
    {
     "data": {
      "text/html": [
       "<div>\n",
       "<style scoped>\n",
       "    .dataframe tbody tr th:only-of-type {\n",
       "        vertical-align: middle;\n",
       "    }\n",
       "\n",
       "    .dataframe tbody tr th {\n",
       "        vertical-align: top;\n",
       "    }\n",
       "\n",
       "    .dataframe thead th {\n",
       "        text-align: right;\n",
       "    }\n",
       "</style>\n",
       "<table border=\"1\" class=\"dataframe\">\n",
       "  <thead>\n",
       "    <tr style=\"text-align: right;\">\n",
       "      <th></th>\n",
       "      <th>DepMap_ID</th>\n",
       "      <th>CCLE_Name</th>\n",
       "      <th>SANGER_MODEL_ID</th>\n",
       "      <th>COSMIC_ID_y</th>\n",
       "      <th>CELL_LINE_NAME_y</th>\n",
       "      <th>DRUG_NAME</th>\n",
       "      <th>PATHWAY_NAME</th>\n",
       "      <th>LN_IC50</th>\n",
       "    </tr>\n",
       "  </thead>\n",
       "  <tbody>\n",
       "    <tr>\n",
       "      <th>0</th>\n",
       "      <td>ACH-000001</td>\n",
       "      <td>NIHOVCAR3_OVARY</td>\n",
       "      <td>SIDM00105</td>\n",
       "      <td>905933</td>\n",
       "      <td>OVCAR-3</td>\n",
       "      <td>Cisplatin</td>\n",
       "      <td>DNA replication</td>\n",
       "      <td>2.240063</td>\n",
       "    </tr>\n",
       "    <tr>\n",
       "      <th>1</th>\n",
       "      <td>ACH-000002</td>\n",
       "      <td>HL60_HAEMATOPOIETIC_AND_LYMPHOID_TISSUE</td>\n",
       "      <td>SIDM00829</td>\n",
       "      <td>905938</td>\n",
       "      <td>HL-60</td>\n",
       "      <td>Cisplatin</td>\n",
       "      <td>DNA replication</td>\n",
       "      <td>2.031773</td>\n",
       "    </tr>\n",
       "    <tr>\n",
       "      <th>2</th>\n",
       "      <td>ACH-000004</td>\n",
       "      <td>HEL_HAEMATOPOIETIC_AND_LYMPHOID_TISSUE</td>\n",
       "      <td>SIDM00594</td>\n",
       "      <td>907053</td>\n",
       "      <td>HEL</td>\n",
       "      <td>Cisplatin</td>\n",
       "      <td>DNA replication</td>\n",
       "      <td>0.503415</td>\n",
       "    </tr>\n",
       "    <tr>\n",
       "      <th>3</th>\n",
       "      <td>ACH-000006</td>\n",
       "      <td>MONOMAC6_HAEMATOPOIETIC_AND_LYMPHOID_TISSUE</td>\n",
       "      <td>SIDM01023</td>\n",
       "      <td>908148</td>\n",
       "      <td>MONO-MAC-6</td>\n",
       "      <td>Cisplatin</td>\n",
       "      <td>DNA replication</td>\n",
       "      <td>3.429265</td>\n",
       "    </tr>\n",
       "    <tr>\n",
       "      <th>4</th>\n",
       "      <td>ACH-000007</td>\n",
       "      <td>LS513_LARGE_INTESTINE</td>\n",
       "      <td>SIDM00677</td>\n",
       "      <td>907795</td>\n",
       "      <td>LS-513</td>\n",
       "      <td>Cisplatin</td>\n",
       "      <td>DNA replication</td>\n",
       "      <td>3.795200</td>\n",
       "    </tr>\n",
       "    <tr>\n",
       "      <th>...</th>\n",
       "      <td>...</td>\n",
       "      <td>...</td>\n",
       "      <td>...</td>\n",
       "      <td>...</td>\n",
       "      <td>...</td>\n",
       "      <td>...</td>\n",
       "      <td>...</td>\n",
       "      <td>...</td>\n",
       "    </tr>\n",
       "    <tr>\n",
       "      <th>675</th>\n",
       "      <td>ACH-002059</td>\n",
       "      <td>P30OHK_HAEMATOPOIETIC_AND_LYMPHOID_TISSUE</td>\n",
       "      <td>SIDM00364</td>\n",
       "      <td>909252</td>\n",
       "      <td>P30-OHK</td>\n",
       "      <td>Cisplatin</td>\n",
       "      <td>DNA replication</td>\n",
       "      <td>1.390315</td>\n",
       "    </tr>\n",
       "    <tr>\n",
       "      <th>676</th>\n",
       "      <td>ACH-002062</td>\n",
       "      <td>SLVL_HAEMATOPOIETIC_AND_LYMPHOID_TISSUE</td>\n",
       "      <td>SIDM00374</td>\n",
       "      <td>1331032</td>\n",
       "      <td>SLVL</td>\n",
       "      <td>Cisplatin</td>\n",
       "      <td>DNA replication</td>\n",
       "      <td>1.395907</td>\n",
       "    </tr>\n",
       "    <tr>\n",
       "      <th>677</th>\n",
       "      <td>ACH-002067</td>\n",
       "      <td>NOS1_BONE</td>\n",
       "      <td>SIDM00242</td>\n",
       "      <td>925345</td>\n",
       "      <td>NOS-1</td>\n",
       "      <td>Cisplatin</td>\n",
       "      <td>DNA replication</td>\n",
       "      <td>2.595771</td>\n",
       "    </tr>\n",
       "    <tr>\n",
       "      <th>678</th>\n",
       "      <td>ACH-002077</td>\n",
       "      <td>LU165_LUNG</td>\n",
       "      <td>SIDM00292</td>\n",
       "      <td>753589</td>\n",
       "      <td>LU-165</td>\n",
       "      <td>Cisplatin</td>\n",
       "      <td>DNA replication</td>\n",
       "      <td>3.481722</td>\n",
       "    </tr>\n",
       "    <tr>\n",
       "      <th>679</th>\n",
       "      <td>ACH-002291</td>\n",
       "      <td>NTERA2CLD1_TESTIS</td>\n",
       "      <td>SIDM01203</td>\n",
       "      <td>908454</td>\n",
       "      <td>NTERA-2-cl-D1</td>\n",
       "      <td>Cisplatin</td>\n",
       "      <td>DNA replication</td>\n",
       "      <td>-0.060141</td>\n",
       "    </tr>\n",
       "  </tbody>\n",
       "</table>\n",
       "<p>680 rows × 8 columns</p>\n",
       "</div>"
      ],
      "text/plain": [
       "      DepMap_ID                                    CCLE_Name SANGER_MODEL_ID  \\\n",
       "0    ACH-000001                              NIHOVCAR3_OVARY       SIDM00105   \n",
       "1    ACH-000002      HL60_HAEMATOPOIETIC_AND_LYMPHOID_TISSUE       SIDM00829   \n",
       "2    ACH-000004       HEL_HAEMATOPOIETIC_AND_LYMPHOID_TISSUE       SIDM00594   \n",
       "3    ACH-000006  MONOMAC6_HAEMATOPOIETIC_AND_LYMPHOID_TISSUE       SIDM01023   \n",
       "4    ACH-000007                        LS513_LARGE_INTESTINE       SIDM00677   \n",
       "..          ...                                          ...             ...   \n",
       "675  ACH-002059    P30OHK_HAEMATOPOIETIC_AND_LYMPHOID_TISSUE       SIDM00364   \n",
       "676  ACH-002062      SLVL_HAEMATOPOIETIC_AND_LYMPHOID_TISSUE       SIDM00374   \n",
       "677  ACH-002067                                    NOS1_BONE       SIDM00242   \n",
       "678  ACH-002077                                   LU165_LUNG       SIDM00292   \n",
       "679  ACH-002291                            NTERA2CLD1_TESTIS       SIDM01203   \n",
       "\n",
       "     COSMIC_ID_y CELL_LINE_NAME_y  DRUG_NAME     PATHWAY_NAME   LN_IC50  \n",
       "0         905933          OVCAR-3  Cisplatin  DNA replication  2.240063  \n",
       "1         905938            HL-60  Cisplatin  DNA replication  2.031773  \n",
       "2         907053              HEL  Cisplatin  DNA replication  0.503415  \n",
       "3         908148       MONO-MAC-6  Cisplatin  DNA replication  3.429265  \n",
       "4         907795           LS-513  Cisplatin  DNA replication  3.795200  \n",
       "..           ...              ...        ...              ...       ...  \n",
       "675       909252          P30-OHK  Cisplatin  DNA replication  1.390315  \n",
       "676      1331032             SLVL  Cisplatin  DNA replication  1.395907  \n",
       "677       925345            NOS-1  Cisplatin  DNA replication  2.595771  \n",
       "678       753589           LU-165  Cisplatin  DNA replication  3.481722  \n",
       "679       908454    NTERA-2-cl-D1  Cisplatin  DNA replication -0.060141  \n",
       "\n",
       "[680 rows x 8 columns]"
      ]
     },
     "execution_count": 4,
     "metadata": {},
     "output_type": "execute_result"
    }
   ],
   "source": [
    "drug_response_data"
   ]
  },
  {
   "cell_type": "code",
   "execution_count": 5,
   "metadata": {},
   "outputs": [],
   "source": [
    "N_FACTORS = 20\n",
    "\n",
    "X_all = np.hstack([expression.values, copy_number.values, mutation_onehot.values])\n",
    "X_all_sep = [expression.values, copy_number.values, mutation_onehot.values]\n",
    "\n",
    "y_all = drug_response_data['LN_IC50']"
   ]
  },
  {
   "cell_type": "code",
   "execution_count": 6,
   "metadata": {},
   "outputs": [],
   "source": [
    "pipeline_base_args_cv = [X_all, y_all, RANDOM_STATE, X_all.shape[1]]\n",
    "\n",
    "pipeline_args_cv = [X_all, y_all, RANDOM_STATE, N_FACTORS]"
   ]
  },
  {
   "cell_type": "markdown",
   "metadata": {},
   "source": [
    "## Регрессия: предсказание ic50"
   ]
  },
  {
   "cell_type": "markdown",
   "metadata": {},
   "source": [
    "### Бейзлайн: без факторизации"
   ]
  },
  {
   "cell_type": "code",
   "execution_count": 7,
   "metadata": {},
   "outputs": [
    {
     "data": {
      "text/html": [
       "<div>\n",
       "<style scoped>\n",
       "    .dataframe tbody tr th:only-of-type {\n",
       "        vertical-align: middle;\n",
       "    }\n",
       "\n",
       "    .dataframe tbody tr th {\n",
       "        vertical-align: top;\n",
       "    }\n",
       "\n",
       "    .dataframe thead th {\n",
       "        text-align: right;\n",
       "    }\n",
       "</style>\n",
       "<table border=\"1\" class=\"dataframe\">\n",
       "  <thead>\n",
       "    <tr style=\"text-align: right;\">\n",
       "      <th></th>\n",
       "      <th>MAPE предсказания по факторам, %</th>\n",
       "      <th>MAPE предсказания по факторам</th>\n",
       "    </tr>\n",
       "  </thead>\n",
       "  <tbody>\n",
       "    <tr>\n",
       "      <th>Разбиение 1</th>\n",
       "      <td>63.998859</td>\n",
       "      <td>1.189831</td>\n",
       "    </tr>\n",
       "    <tr>\n",
       "      <th>Разбиение 2</th>\n",
       "      <td>34.979817</td>\n",
       "      <td>0.841852</td>\n",
       "    </tr>\n",
       "    <tr>\n",
       "      <th>Разбиение 3</th>\n",
       "      <td>51.161948</td>\n",
       "      <td>0.967896</td>\n",
       "    </tr>\n",
       "    <tr>\n",
       "      <th>Разбиение 4</th>\n",
       "      <td>82.511876</td>\n",
       "      <td>1.045432</td>\n",
       "    </tr>\n",
       "    <tr>\n",
       "      <th>Разбиение 5</th>\n",
       "      <td>117.226502</td>\n",
       "      <td>1.018300</td>\n",
       "    </tr>\n",
       "    <tr>\n",
       "      <th>Разбиение 6</th>\n",
       "      <td>30.114082</td>\n",
       "      <td>1.017101</td>\n",
       "    </tr>\n",
       "    <tr>\n",
       "      <th>Разбиение 7</th>\n",
       "      <td>48.706903</td>\n",
       "      <td>1.091057</td>\n",
       "    </tr>\n",
       "    <tr>\n",
       "      <th>Разбиение 8</th>\n",
       "      <td>106.292249</td>\n",
       "      <td>1.225444</td>\n",
       "    </tr>\n",
       "    <tr>\n",
       "      <th>Разбиение 9</th>\n",
       "      <td>45.376653</td>\n",
       "      <td>1.102400</td>\n",
       "    </tr>\n",
       "    <tr>\n",
       "      <th>Разбиение 10</th>\n",
       "      <td>270.340013</td>\n",
       "      <td>1.078099</td>\n",
       "    </tr>\n",
       "  </tbody>\n",
       "</table>\n",
       "</div>"
      ],
      "text/plain": [
       "              MAPE предсказания по факторам, %  MAPE предсказания по факторам\n",
       "Разбиение 1                          63.998859                       1.189831\n",
       "Разбиение 2                          34.979817                       0.841852\n",
       "Разбиение 3                          51.161948                       0.967896\n",
       "Разбиение 4                          82.511876                       1.045432\n",
       "Разбиение 5                         117.226502                       1.018300\n",
       "Разбиение 6                          30.114082                       1.017101\n",
       "Разбиение 7                          48.706903                       1.091057\n",
       "Разбиение 8                         106.292249                       1.225444\n",
       "Разбиение 9                          45.376653                       1.102400\n",
       "Разбиение 10                        270.340013                       1.078099"
      ]
     },
     "metadata": {},
     "output_type": "display_data"
    }
   ],
   "source": [
    "base_metrics = regression_pipeline_gdsc_cv(None, *pipeline_base_args_cv, plot_feat_imp=False)\n",
    "m_f_base, r_f_base = base_metrics.values()"
   ]
  },
  {
   "cell_type": "markdown",
   "metadata": {},
   "source": [
    "### MOFA"
   ]
  },
  {
   "cell_type": "code",
   "execution_count": 8,
   "metadata": {},
   "outputs": [
    {
     "name": "stdout",
     "output_type": "stream",
     "text": [
      "\n",
      "        #########################################################\n",
      "        ###           __  __  ____  ______                    ### \n",
      "        ###          |  \\/  |/ __ \\|  ____/\\    _             ### \n",
      "        ###          | \\  / | |  | | |__ /  \\ _| |_           ### \n",
      "        ###          | |\\/| | |  | |  __/ /\\ \\_   _|          ###\n",
      "        ###          | |  | | |__| | | / ____ \\|_|            ###\n",
      "        ###          |_|  |_|\\____/|_|/_/    \\_\\              ###\n",
      "        ###                                                   ### \n",
      "        ######################################################### \n",
      "       \n",
      " \n",
      "        \n",
      "\n",
      "No \"group\" column found in the data frame, we will assume a common group for all samples...\n"
     ]
    },
    {
     "name": "stdout",
     "output_type": "stream",
     "text": [
      "\n",
      "\n",
      "Loaded group='single_group' view='Copy Number' with N=680 samples and D=24094 features...\n",
      "Loaded group='single_group' view='DNA' with N=680 samples and D=8467 features...\n",
      "Loaded group='single_group' view='Mutations' with N=680 samples and D=13897 features...\n",
      "\n",
      "\n",
      "Model options:\n",
      "- Automatic Relevance Determination prior on the factors: True\n",
      "- Automatic Relevance Determination prior on the weights: True\n",
      "- Spike-and-slab prior on the factors: False\n",
      "- Spike-and-slab prior on the weights: True\n",
      "Likelihoods:\n",
      "- View 0 (Copy Number): gaussian\n",
      "- View 1 (DNA): gaussian\n",
      "- View 2 (Mutations): bernoulli\n",
      "\n",
      "\n",
      "\n",
      "\n",
      "######################################\n",
      "## Training the model with seed 42 ##\n",
      "######################################\n",
      "\n",
      "\n",
      "\n",
      "Converged!\n",
      "\n",
      "\n",
      "\n",
      "#######################\n",
      "## Training finished ##\n",
      "#######################\n",
      "\n",
      "\n",
      "Saving model in data/outputs/test_1716069402.5418868.hdf5...\n",
      "\n",
      "        #########################################################\n",
      "        ###           __  __  ____  ______                    ### \n",
      "        ###          |  \\/  |/ __ \\|  ____/\\    _             ### \n",
      "        ###          | \\  / | |  | | |__ /  \\ _| |_           ### \n",
      "        ###          | |\\/| | |  | |  __/ /\\ \\_   _|          ###\n",
      "        ###          | |  | | |__| | | / ____ \\|_|            ###\n",
      "        ###          |_|  |_|\\____/|_|/_/    \\_\\              ###\n",
      "        ###                                                   ### \n",
      "        ######################################################### \n",
      "       \n",
      " \n",
      "        \n",
      "\n",
      "\n",
      "Loaded group='single_group' view='Copy Number' with N=680 samples and D=24094 features...\n",
      "Loaded group='single_group' view='DNA' with N=680 samples and D=8467 features...\n",
      "Loaded group='single_group' view='Mutations' with N=680 samples and D=13897 features...\n",
      "\n",
      "\n",
      "Model options:\n",
      "- Automatic Relevance Determination prior on the factors: True\n",
      "- Automatic Relevance Determination prior on the weights: True\n",
      "- Spike-and-slab prior on the factors: False\n",
      "- Spike-and-slab prior on the weights: True\n",
      "Likelihoods:\n",
      "- View 0 (Copy Number): gaussian\n",
      "- View 1 (DNA): gaussian\n",
      "- View 2 (Mutations): bernoulli\n",
      "\n",
      "\n",
      "\n",
      "\n",
      "######################################\n",
      "## Training the model with seed 42 ##\n",
      "######################################\n",
      "\n",
      "\n",
      "\n",
      "Converged!\n",
      "\n",
      "\n",
      "\n",
      "#######################\n",
      "## Training finished ##\n",
      "#######################\n",
      "\n",
      "\n",
      "Saving model in data/outputs/test_1716072048.3066573.hdf5...\n",
      "\n",
      "        #########################################################\n",
      "        ###           __  __  ____  ______                    ### \n",
      "        ###          |  \\/  |/ __ \\|  ____/\\    _             ### \n",
      "        ###          | \\  / | |  | | |__ /  \\ _| |_           ### \n",
      "        ###          | |\\/| | |  | |  __/ /\\ \\_   _|          ###\n",
      "        ###          | |  | | |__| | | / ____ \\|_|            ###\n",
      "        ###          |_|  |_|\\____/|_|/_/    \\_\\              ###\n",
      "        ###                                                   ### \n",
      "        ######################################################### \n",
      "       \n",
      " \n",
      "        \n",
      "\n",
      "\n",
      "Loaded group='single_group' view='Copy Number' with N=680 samples and D=24094 features...\n",
      "Loaded group='single_group' view='DNA' with N=680 samples and D=8467 features...\n",
      "Loaded group='single_group' view='Mutations' with N=680 samples and D=13897 features...\n",
      "\n",
      "\n",
      "Model options:\n",
      "- Automatic Relevance Determination prior on the factors: True\n",
      "- Automatic Relevance Determination prior on the weights: True\n",
      "- Spike-and-slab prior on the factors: False\n",
      "- Spike-and-slab prior on the weights: True\n",
      "Likelihoods:\n",
      "- View 0 (Copy Number): gaussian\n",
      "- View 1 (DNA): gaussian\n",
      "- View 2 (Mutations): bernoulli\n",
      "\n",
      "\n",
      "\n",
      "\n",
      "######################################\n",
      "## Training the model with seed 42 ##\n",
      "######################################\n",
      "\n",
      "\n",
      "\n",
      "Converged!\n",
      "\n",
      "\n",
      "\n",
      "#######################\n",
      "## Training finished ##\n",
      "#######################\n",
      "\n",
      "\n",
      "Saving model in data/outputs/test_1716075073.689806.hdf5...\n",
      "\n",
      "        #########################################################\n",
      "        ###           __  __  ____  ______                    ### \n",
      "        ###          |  \\/  |/ __ \\|  ____/\\    _             ### \n",
      "        ###          | \\  / | |  | | |__ /  \\ _| |_           ### \n",
      "        ###          | |\\/| | |  | |  __/ /\\ \\_   _|          ###\n",
      "        ###          | |  | | |__| | | / ____ \\|_|            ###\n",
      "        ###          |_|  |_|\\____/|_|/_/    \\_\\              ###\n",
      "        ###                                                   ### \n",
      "        ######################################################### \n",
      "       \n",
      " \n",
      "        \n",
      "\n",
      "\n",
      "Loaded group='single_group' view='Copy Number' with N=680 samples and D=24094 features...\n",
      "Loaded group='single_group' view='DNA' with N=680 samples and D=8467 features...\n",
      "Loaded group='single_group' view='Mutations' with N=680 samples and D=13897 features...\n",
      "\n",
      "\n",
      "Model options:\n",
      "- Automatic Relevance Determination prior on the factors: True\n",
      "- Automatic Relevance Determination prior on the weights: True\n",
      "- Spike-and-slab prior on the factors: False\n",
      "- Spike-and-slab prior on the weights: True\n",
      "Likelihoods:\n",
      "- View 0 (Copy Number): gaussian\n",
      "- View 1 (DNA): gaussian\n",
      "- View 2 (Mutations): bernoulli\n",
      "\n",
      "\n",
      "\n",
      "\n",
      "######################################\n",
      "## Training the model with seed 42 ##\n",
      "######################################\n",
      "\n",
      "\n",
      "\n",
      "Converged!\n",
      "\n",
      "\n",
      "\n",
      "#######################\n",
      "## Training finished ##\n",
      "#######################\n",
      "\n",
      "\n",
      "Saving model in data/outputs/test_1716078625.3958507.hdf5...\n",
      "\n",
      "        #########################################################\n",
      "        ###           __  __  ____  ______                    ### \n",
      "        ###          |  \\/  |/ __ \\|  ____/\\    _             ### \n",
      "        ###          | \\  / | |  | | |__ /  \\ _| |_           ### \n",
      "        ###          | |\\/| | |  | |  __/ /\\ \\_   _|          ###\n",
      "        ###          | |  | | |__| | | / ____ \\|_|            ###\n",
      "        ###          |_|  |_|\\____/|_|/_/    \\_\\              ###\n",
      "        ###                                                   ### \n",
      "        ######################################################### \n",
      "       \n",
      " \n",
      "        \n",
      "\n",
      "\n",
      "Loaded group='single_group' view='Copy Number' with N=680 samples and D=24094 features...\n",
      "Loaded group='single_group' view='DNA' with N=680 samples and D=8467 features...\n",
      "Loaded group='single_group' view='Mutations' with N=680 samples and D=13897 features...\n",
      "\n",
      "\n",
      "Model options:\n",
      "- Automatic Relevance Determination prior on the factors: True\n",
      "- Automatic Relevance Determination prior on the weights: True\n",
      "- Spike-and-slab prior on the factors: False\n",
      "- Spike-and-slab prior on the weights: True\n",
      "Likelihoods:\n",
      "- View 0 (Copy Number): gaussian\n",
      "- View 1 (DNA): gaussian\n",
      "- View 2 (Mutations): bernoulli\n",
      "\n",
      "\n",
      "\n",
      "\n",
      "######################################\n",
      "## Training the model with seed 42 ##\n",
      "######################################\n",
      "\n",
      "\n",
      "\n",
      "Converged!\n",
      "\n",
      "\n",
      "\n",
      "#######################\n",
      "## Training finished ##\n",
      "#######################\n",
      "\n",
      "\n",
      "Saving model in data/outputs/test_1716081875.0514321.hdf5...\n",
      "\n",
      "        #########################################################\n",
      "        ###           __  __  ____  ______                    ### \n",
      "        ###          |  \\/  |/ __ \\|  ____/\\    _             ### \n",
      "        ###          | \\  / | |  | | |__ /  \\ _| |_           ### \n",
      "        ###          | |\\/| | |  | |  __/ /\\ \\_   _|          ###\n",
      "        ###          | |  | | |__| | | / ____ \\|_|            ###\n",
      "        ###          |_|  |_|\\____/|_|/_/    \\_\\              ###\n",
      "        ###                                                   ### \n",
      "        ######################################################### \n",
      "       \n",
      " \n",
      "        \n",
      "\n",
      "\n",
      "Loaded group='single_group' view='Copy Number' with N=680 samples and D=24094 features...\n",
      "Loaded group='single_group' view='DNA' with N=680 samples and D=8467 features...\n",
      "Loaded group='single_group' view='Mutations' with N=680 samples and D=13897 features...\n",
      "\n",
      "\n",
      "Model options:\n",
      "- Automatic Relevance Determination prior on the factors: True\n",
      "- Automatic Relevance Determination prior on the weights: True\n",
      "- Spike-and-slab prior on the factors: False\n",
      "- Spike-and-slab prior on the weights: True\n",
      "Likelihoods:\n",
      "- View 0 (Copy Number): gaussian\n",
      "- View 1 (DNA): gaussian\n",
      "- View 2 (Mutations): bernoulli\n",
      "\n",
      "\n",
      "\n",
      "\n",
      "######################################\n",
      "## Training the model with seed 42 ##\n",
      "######################################\n",
      "\n",
      "\n",
      "\n",
      "Converged!\n",
      "\n",
      "\n",
      "\n",
      "#######################\n",
      "## Training finished ##\n",
      "#######################\n",
      "\n",
      "\n",
      "Saving model in data/outputs/test_1716085190.2233157.hdf5...\n",
      "\n",
      "        #########################################################\n",
      "        ###           __  __  ____  ______                    ### \n",
      "        ###          |  \\/  |/ __ \\|  ____/\\    _             ### \n",
      "        ###          | \\  / | |  | | |__ /  \\ _| |_           ### \n",
      "        ###          | |\\/| | |  | |  __/ /\\ \\_   _|          ###\n",
      "        ###          | |  | | |__| | | / ____ \\|_|            ###\n",
      "        ###          |_|  |_|\\____/|_|/_/    \\_\\              ###\n",
      "        ###                                                   ### \n",
      "        ######################################################### \n",
      "       \n",
      " \n",
      "        \n",
      "\n",
      "\n",
      "Loaded group='single_group' view='Copy Number' with N=680 samples and D=24094 features...\n",
      "Loaded group='single_group' view='DNA' with N=680 samples and D=8467 features...\n",
      "Loaded group='single_group' view='Mutations' with N=680 samples and D=13897 features...\n",
      "\n",
      "\n",
      "Model options:\n",
      "- Automatic Relevance Determination prior on the factors: True\n",
      "- Automatic Relevance Determination prior on the weights: True\n",
      "- Spike-and-slab prior on the factors: False\n",
      "- Spike-and-slab prior on the weights: True\n",
      "Likelihoods:\n",
      "- View 0 (Copy Number): gaussian\n",
      "- View 1 (DNA): gaussian\n",
      "- View 2 (Mutations): bernoulli\n",
      "\n",
      "\n",
      "\n",
      "\n",
      "######################################\n",
      "## Training the model with seed 42 ##\n",
      "######################################\n",
      "\n",
      "\n",
      "\n",
      "Converged!\n",
      "\n",
      "\n",
      "\n",
      "#######################\n",
      "## Training finished ##\n",
      "#######################\n",
      "\n",
      "\n",
      "Saving model in data/outputs/test_1716088774.4698594.hdf5...\n",
      "\n",
      "        #########################################################\n",
      "        ###           __  __  ____  ______                    ### \n",
      "        ###          |  \\/  |/ __ \\|  ____/\\    _             ### \n",
      "        ###          | \\  / | |  | | |__ /  \\ _| |_           ### \n",
      "        ###          | |\\/| | |  | |  __/ /\\ \\_   _|          ###\n",
      "        ###          | |  | | |__| | | / ____ \\|_|            ###\n",
      "        ###          |_|  |_|\\____/|_|/_/    \\_\\              ###\n",
      "        ###                                                   ### \n",
      "        ######################################################### \n",
      "       \n",
      " \n",
      "        \n",
      "\n",
      "\n",
      "Loaded group='single_group' view='Copy Number' with N=680 samples and D=24094 features...\n",
      "Loaded group='single_group' view='DNA' with N=680 samples and D=8467 features...\n",
      "Loaded group='single_group' view='Mutations' with N=680 samples and D=13897 features...\n",
      "\n",
      "\n",
      "Model options:\n",
      "- Automatic Relevance Determination prior on the factors: True\n",
      "- Automatic Relevance Determination prior on the weights: True\n",
      "- Spike-and-slab prior on the factors: False\n",
      "- Spike-and-slab prior on the weights: True\n",
      "Likelihoods:\n",
      "- View 0 (Copy Number): gaussian\n",
      "- View 1 (DNA): gaussian\n",
      "- View 2 (Mutations): bernoulli\n",
      "\n",
      "\n",
      "\n",
      "\n",
      "######################################\n",
      "## Training the model with seed 42 ##\n",
      "######################################\n",
      "\n",
      "\n",
      "\n",
      "Converged!\n",
      "\n",
      "\n",
      "\n",
      "#######################\n",
      "## Training finished ##\n",
      "#######################\n",
      "\n",
      "\n",
      "Saving model in data/outputs/test_1716092301.1692624.hdf5...\n",
      "\n",
      "        #########################################################\n",
      "        ###           __  __  ____  ______                    ### \n",
      "        ###          |  \\/  |/ __ \\|  ____/\\    _             ### \n",
      "        ###          | \\  / | |  | | |__ /  \\ _| |_           ### \n",
      "        ###          | |\\/| | |  | |  __/ /\\ \\_   _|          ###\n",
      "        ###          | |  | | |__| | | / ____ \\|_|            ###\n",
      "        ###          |_|  |_|\\____/|_|/_/    \\_\\              ###\n",
      "        ###                                                   ### \n",
      "        ######################################################### \n",
      "       \n",
      " \n",
      "        \n",
      "\n",
      "\n",
      "Loaded group='single_group' view='Copy Number' with N=680 samples and D=24094 features...\n",
      "Loaded group='single_group' view='DNA' with N=680 samples and D=8467 features...\n",
      "Loaded group='single_group' view='Mutations' with N=680 samples and D=13897 features...\n",
      "\n",
      "\n",
      "Model options:\n",
      "- Automatic Relevance Determination prior on the factors: True\n",
      "- Automatic Relevance Determination prior on the weights: True\n",
      "- Spike-and-slab prior on the factors: False\n",
      "- Spike-and-slab prior on the weights: True\n",
      "Likelihoods:\n",
      "- View 0 (Copy Number): gaussian\n",
      "- View 1 (DNA): gaussian\n",
      "- View 2 (Mutations): bernoulli\n",
      "\n",
      "\n",
      "\n",
      "\n",
      "######################################\n",
      "## Training the model with seed 42 ##\n",
      "######################################\n",
      "\n",
      "\n",
      "\n",
      "Converged!\n",
      "\n",
      "\n",
      "\n",
      "#######################\n",
      "## Training finished ##\n",
      "#######################\n",
      "\n",
      "\n",
      "Saving model in data/outputs/test_1716095547.4471755.hdf5...\n",
      "\n",
      "        #########################################################\n",
      "        ###           __  __  ____  ______                    ### \n",
      "        ###          |  \\/  |/ __ \\|  ____/\\    _             ### \n",
      "        ###          | \\  / | |  | | |__ /  \\ _| |_           ### \n",
      "        ###          | |\\/| | |  | |  __/ /\\ \\_   _|          ###\n",
      "        ###          | |  | | |__| | | / ____ \\|_|            ###\n",
      "        ###          |_|  |_|\\____/|_|/_/    \\_\\              ###\n",
      "        ###                                                   ### \n",
      "        ######################################################### \n",
      "       \n",
      " \n",
      "        \n",
      "\n",
      "\n",
      "Loaded group='single_group' view='Copy Number' with N=680 samples and D=24094 features...\n",
      "Loaded group='single_group' view='DNA' with N=680 samples and D=8467 features...\n",
      "Loaded group='single_group' view='Mutations' with N=680 samples and D=13897 features...\n",
      "\n",
      "\n",
      "Model options:\n",
      "- Automatic Relevance Determination prior on the factors: True\n",
      "- Automatic Relevance Determination prior on the weights: True\n",
      "- Spike-and-slab prior on the factors: False\n",
      "- Spike-and-slab prior on the weights: True\n",
      "Likelihoods:\n",
      "- View 0 (Copy Number): gaussian\n",
      "- View 1 (DNA): gaussian\n",
      "- View 2 (Mutations): bernoulli\n",
      "\n",
      "\n",
      "\n",
      "\n",
      "######################################\n",
      "## Training the model with seed 42 ##\n",
      "######################################\n",
      "\n",
      "\n",
      "\n",
      "Converged!\n",
      "\n",
      "\n",
      "\n",
      "#######################\n",
      "## Training finished ##\n",
      "#######################\n",
      "\n",
      "\n",
      "Saving model in data/outputs/test_1716098959.9468863.hdf5...\n"
     ]
    },
    {
     "data": {
      "text/html": [
       "<div>\n",
       "<style scoped>\n",
       "    .dataframe tbody tr th:only-of-type {\n",
       "        vertical-align: middle;\n",
       "    }\n",
       "\n",
       "    .dataframe tbody tr th {\n",
       "        vertical-align: top;\n",
       "    }\n",
       "\n",
       "    .dataframe thead th {\n",
       "        text-align: right;\n",
       "    }\n",
       "</style>\n",
       "<table border=\"1\" class=\"dataframe\">\n",
       "  <thead>\n",
       "    <tr style=\"text-align: right;\">\n",
       "      <th></th>\n",
       "      <th>MAPE предсказания по факторам, %</th>\n",
       "      <th>MAPE предсказания по факторам</th>\n",
       "    </tr>\n",
       "  </thead>\n",
       "  <tbody>\n",
       "    <tr>\n",
       "      <th>Разбиение 1</th>\n",
       "      <td>63.732542</td>\n",
       "      <td>1.250979</td>\n",
       "    </tr>\n",
       "    <tr>\n",
       "      <th>Разбиение 2</th>\n",
       "      <td>37.720803</td>\n",
       "      <td>0.879265</td>\n",
       "    </tr>\n",
       "    <tr>\n",
       "      <th>Разбиение 3</th>\n",
       "      <td>51.915326</td>\n",
       "      <td>1.101467</td>\n",
       "    </tr>\n",
       "    <tr>\n",
       "      <th>Разбиение 4</th>\n",
       "      <td>100.098732</td>\n",
       "      <td>1.227067</td>\n",
       "    </tr>\n",
       "    <tr>\n",
       "      <th>Разбиение 5</th>\n",
       "      <td>151.963411</td>\n",
       "      <td>1.224839</td>\n",
       "    </tr>\n",
       "    <tr>\n",
       "      <th>Разбиение 6</th>\n",
       "      <td>30.904962</td>\n",
       "      <td>1.079012</td>\n",
       "    </tr>\n",
       "    <tr>\n",
       "      <th>Разбиение 7</th>\n",
       "      <td>50.909300</td>\n",
       "      <td>1.204602</td>\n",
       "    </tr>\n",
       "    <tr>\n",
       "      <th>Разбиение 8</th>\n",
       "      <td>117.362125</td>\n",
       "      <td>1.293762</td>\n",
       "    </tr>\n",
       "    <tr>\n",
       "      <th>Разбиение 9</th>\n",
       "      <td>48.811763</td>\n",
       "      <td>1.147328</td>\n",
       "    </tr>\n",
       "    <tr>\n",
       "      <th>Разбиение 10</th>\n",
       "      <td>296.625433</td>\n",
       "      <td>1.149405</td>\n",
       "    </tr>\n",
       "  </tbody>\n",
       "</table>\n",
       "</div>"
      ],
      "text/plain": [
       "              MAPE предсказания по факторам, %  MAPE предсказания по факторам\n",
       "Разбиение 1                          63.732542                       1.250979\n",
       "Разбиение 2                          37.720803                       0.879265\n",
       "Разбиение 3                          51.915326                       1.101467\n",
       "Разбиение 4                         100.098732                       1.227067\n",
       "Разбиение 5                         151.963411                       1.224839\n",
       "Разбиение 6                          30.904962                       1.079012\n",
       "Разбиение 7                          50.909300                       1.204602\n",
       "Разбиение 8                         117.362125                       1.293762\n",
       "Разбиение 9                          48.811763                       1.147328\n",
       "Разбиение 10                        296.625433                       1.149405"
      ]
     },
     "metadata": {},
     "output_type": "display_data"
    },
    {
     "data": {
      "image/png": "[encoded data removed]",
      "text/plain": [
       "<Figure size 1600x800 with 1 Axes>"
      ]
     },
     "metadata": {},
     "output_type": "display_data"
    }
   ],
   "source": [
    "mofa_metrics = regression_pipeline_gdsc_cv(train_mofa, *pipeline_args_cv, mofa_dataset=mofa_data)\n",
    "m_f_mofa, r_f_mofa = mofa_metrics.values()"
   ]
  },
  {
   "cell_type": "markdown",
   "metadata": {},
   "source": [
    "### MCCA"
   ]
  },
  {
   "cell_type": "code",
   "execution_count": 9,
   "metadata": {},
   "outputs": [
    {
     "data": {
      "text/html": [
       "<div>\n",
       "<style scoped>\n",
       "    .dataframe tbody tr th:only-of-type {\n",
       "        vertical-align: middle;\n",
       "    }\n",
       "\n",
       "    .dataframe tbody tr th {\n",
       "        vertical-align: top;\n",
       "    }\n",
       "\n",
       "    .dataframe thead th {\n",
       "        text-align: right;\n",
       "    }\n",
       "</style>\n",
       "<table border=\"1\" class=\"dataframe\">\n",
       "  <thead>\n",
       "    <tr style=\"text-align: right;\">\n",
       "      <th></th>\n",
       "      <th>MAPE предсказания по факторам, %</th>\n",
       "      <th>MAPE предсказания по факторам</th>\n",
       "    </tr>\n",
       "  </thead>\n",
       "  <tbody>\n",
       "    <tr>\n",
       "      <th>Разбиение 1</th>\n",
       "      <td>65.305464</td>\n",
       "      <td>1.300643</td>\n",
       "    </tr>\n",
       "    <tr>\n",
       "      <th>Разбиение 2</th>\n",
       "      <td>38.564186</td>\n",
       "      <td>0.916968</td>\n",
       "    </tr>\n",
       "    <tr>\n",
       "      <th>Разбиение 3</th>\n",
       "      <td>51.813207</td>\n",
       "      <td>1.015338</td>\n",
       "    </tr>\n",
       "    <tr>\n",
       "      <th>Разбиение 4</th>\n",
       "      <td>89.311423</td>\n",
       "      <td>1.163237</td>\n",
       "    </tr>\n",
       "    <tr>\n",
       "      <th>Разбиение 5</th>\n",
       "      <td>126.394117</td>\n",
       "      <td>1.131657</td>\n",
       "    </tr>\n",
       "    <tr>\n",
       "      <th>Разбиение 6</th>\n",
       "      <td>34.647309</td>\n",
       "      <td>1.211888</td>\n",
       "    </tr>\n",
       "    <tr>\n",
       "      <th>Разбиение 7</th>\n",
       "      <td>46.435590</td>\n",
       "      <td>1.094017</td>\n",
       "    </tr>\n",
       "    <tr>\n",
       "      <th>Разбиение 8</th>\n",
       "      <td>105.426974</td>\n",
       "      <td>1.207783</td>\n",
       "    </tr>\n",
       "    <tr>\n",
       "      <th>Разбиение 9</th>\n",
       "      <td>50.387491</td>\n",
       "      <td>1.304045</td>\n",
       "    </tr>\n",
       "    <tr>\n",
       "      <th>Разбиение 10</th>\n",
       "      <td>299.747385</td>\n",
       "      <td>1.186417</td>\n",
       "    </tr>\n",
       "  </tbody>\n",
       "</table>\n",
       "</div>"
      ],
      "text/plain": [
       "              MAPE предсказания по факторам, %  MAPE предсказания по факторам\n",
       "Разбиение 1                          65.305464                       1.300643\n",
       "Разбиение 2                          38.564186                       0.916968\n",
       "Разбиение 3                          51.813207                       1.015338\n",
       "Разбиение 4                          89.311423                       1.163237\n",
       "Разбиение 5                         126.394117                       1.131657\n",
       "Разбиение 6                          34.647309                       1.211888\n",
       "Разбиение 7                          46.435590                       1.094017\n",
       "Разбиение 8                         105.426974                       1.207783\n",
       "Разбиение 9                          50.387491                       1.304045\n",
       "Разбиение 10                        299.747385                       1.186417"
      ]
     },
     "metadata": {},
     "output_type": "display_data"
    },
    {
     "data": {
      "image/png": "[encoded data removed]",
      "text/plain": [
       "<Figure size 1600x800 with 1 Axes>"
      ]
     },
     "metadata": {},
     "output_type": "display_data"
    }
   ],
   "source": [
    "cca = MCCA(n_components=N_FACTORS, regs='oas', multiview_output=False)\n",
    "mcca_metrics = regression_pipeline_gdsc_cv(cca, X_all_sep, *pipeline_args_cv[1:])\n",
    "m_f_mcca, r_f_mcca = mcca_metrics.values()"
   ]
  },
  {
   "cell_type": "markdown",
   "metadata": {},
   "source": [
    "### PCA"
   ]
  },
  {
   "cell_type": "code",
   "execution_count": 10,
   "metadata": {},
   "outputs": [
    {
     "data": {
      "text/html": [
       "<div>\n",
       "<style scoped>\n",
       "    .dataframe tbody tr th:only-of-type {\n",
       "        vertical-align: middle;\n",
       "    }\n",
       "\n",
       "    .dataframe tbody tr th {\n",
       "        vertical-align: top;\n",
       "    }\n",
       "\n",
       "    .dataframe thead th {\n",
       "        text-align: right;\n",
       "    }\n",
       "</style>\n",
       "<table border=\"1\" class=\"dataframe\">\n",
       "  <thead>\n",
       "    <tr style=\"text-align: right;\">\n",
       "      <th></th>\n",
       "      <th>MAPE предсказания по факторам, %</th>\n",
       "      <th>MAPE предсказания по факторам</th>\n",
       "    </tr>\n",
       "  </thead>\n",
       "  <tbody>\n",
       "    <tr>\n",
       "      <th>Разбиение 1</th>\n",
       "      <td>67.652752</td>\n",
       "      <td>1.288223</td>\n",
       "    </tr>\n",
       "    <tr>\n",
       "      <th>Разбиение 2</th>\n",
       "      <td>37.645515</td>\n",
       "      <td>0.922660</td>\n",
       "    </tr>\n",
       "    <tr>\n",
       "      <th>Разбиение 3</th>\n",
       "      <td>51.637564</td>\n",
       "      <td>1.059031</td>\n",
       "    </tr>\n",
       "    <tr>\n",
       "      <th>Разбиение 4</th>\n",
       "      <td>94.879095</td>\n",
       "      <td>1.150087</td>\n",
       "    </tr>\n",
       "    <tr>\n",
       "      <th>Разбиение 5</th>\n",
       "      <td>121.186580</td>\n",
       "      <td>1.069072</td>\n",
       "    </tr>\n",
       "    <tr>\n",
       "      <th>Разбиение 6</th>\n",
       "      <td>34.069845</td>\n",
       "      <td>1.171777</td>\n",
       "    </tr>\n",
       "    <tr>\n",
       "      <th>Разбиение 7</th>\n",
       "      <td>52.631358</td>\n",
       "      <td>1.223164</td>\n",
       "    </tr>\n",
       "    <tr>\n",
       "      <th>Разбиение 8</th>\n",
       "      <td>99.540522</td>\n",
       "      <td>1.211124</td>\n",
       "    </tr>\n",
       "    <tr>\n",
       "      <th>Разбиение 9</th>\n",
       "      <td>49.875833</td>\n",
       "      <td>1.158287</td>\n",
       "    </tr>\n",
       "    <tr>\n",
       "      <th>Разбиение 10</th>\n",
       "      <td>300.386723</td>\n",
       "      <td>1.164769</td>\n",
       "    </tr>\n",
       "  </tbody>\n",
       "</table>\n",
       "</div>"
      ],
      "text/plain": [
       "              MAPE предсказания по факторам, %  MAPE предсказания по факторам\n",
       "Разбиение 1                          67.652752                       1.288223\n",
       "Разбиение 2                          37.645515                       0.922660\n",
       "Разбиение 3                          51.637564                       1.059031\n",
       "Разбиение 4                          94.879095                       1.150087\n",
       "Разбиение 5                         121.186580                       1.069072\n",
       "Разбиение 6                          34.069845                       1.171777\n",
       "Разбиение 7                          52.631358                       1.223164\n",
       "Разбиение 8                          99.540522                       1.211124\n",
       "Разбиение 9                          49.875833                       1.158287\n",
       "Разбиение 10                        300.386723                       1.164769"
      ]
     },
     "metadata": {},
     "output_type": "display_data"
    },
    {
     "data": {
      "image/png": "[encoded data removed]",
      "text/plain": [
       "<Figure size 1600x800 with 1 Axes>"
      ]
     },
     "metadata": {},
     "output_type": "display_data"
    }
   ],
   "source": [
    "\n",
    "pca = PCA(n_components=N_FACTORS)\n",
    "pca_metrics = regression_pipeline_gdsc_cv(pca, *pipeline_args_cv)\n",
    "m_f_pca, r_f_pca = pca_metrics.values()"
   ]
  },
  {
   "cell_type": "markdown",
   "metadata": {},
   "source": [
    "### UMAP"
   ]
  },
  {
   "cell_type": "code",
   "execution_count": 11,
   "metadata": {},
   "outputs": [
    {
     "data": {
      "text/html": [
       "<div>\n",
       "<style scoped>\n",
       "    .dataframe tbody tr th:only-of-type {\n",
       "        vertical-align: middle;\n",
       "    }\n",
       "\n",
       "    .dataframe tbody tr th {\n",
       "        vertical-align: top;\n",
       "    }\n",
       "\n",
       "    .dataframe thead th {\n",
       "        text-align: right;\n",
       "    }\n",
       "</style>\n",
       "<table border=\"1\" class=\"dataframe\">\n",
       "  <thead>\n",
       "    <tr style=\"text-align: right;\">\n",
       "      <th></th>\n",
       "      <th>MAPE предсказания по факторам, %</th>\n",
       "      <th>MAPE предсказания по факторам</th>\n",
       "    </tr>\n",
       "  </thead>\n",
       "  <tbody>\n",
       "    <tr>\n",
       "      <th>Разбиение 1</th>\n",
       "      <td>73.551004</td>\n",
       "      <td>1.312486</td>\n",
       "    </tr>\n",
       "    <tr>\n",
       "      <th>Разбиение 2</th>\n",
       "      <td>38.945199</td>\n",
       "      <td>0.910741</td>\n",
       "    </tr>\n",
       "    <tr>\n",
       "      <th>Разбиение 3</th>\n",
       "      <td>60.793091</td>\n",
       "      <td>1.205757</td>\n",
       "    </tr>\n",
       "    <tr>\n",
       "      <th>Разбиение 4</th>\n",
       "      <td>105.564005</td>\n",
       "      <td>1.313580</td>\n",
       "    </tr>\n",
       "    <tr>\n",
       "      <th>Разбиение 5</th>\n",
       "      <td>156.591425</td>\n",
       "      <td>1.256532</td>\n",
       "    </tr>\n",
       "    <tr>\n",
       "      <th>Разбиение 6</th>\n",
       "      <td>32.114475</td>\n",
       "      <td>1.209380</td>\n",
       "    </tr>\n",
       "    <tr>\n",
       "      <th>Разбиение 7</th>\n",
       "      <td>52.503254</td>\n",
       "      <td>1.201702</td>\n",
       "    </tr>\n",
       "    <tr>\n",
       "      <th>Разбиение 8</th>\n",
       "      <td>121.921642</td>\n",
       "      <td>1.399284</td>\n",
       "    </tr>\n",
       "    <tr>\n",
       "      <th>Разбиение 9</th>\n",
       "      <td>49.660980</td>\n",
       "      <td>1.291430</td>\n",
       "    </tr>\n",
       "    <tr>\n",
       "      <th>Разбиение 10</th>\n",
       "      <td>335.566270</td>\n",
       "      <td>1.214081</td>\n",
       "    </tr>\n",
       "  </tbody>\n",
       "</table>\n",
       "</div>"
      ],
      "text/plain": [
       "              MAPE предсказания по факторам, %  MAPE предсказания по факторам\n",
       "Разбиение 1                          73.551004                       1.312486\n",
       "Разбиение 2                          38.945199                       0.910741\n",
       "Разбиение 3                          60.793091                       1.205757\n",
       "Разбиение 4                         105.564005                       1.313580\n",
       "Разбиение 5                         156.591425                       1.256532\n",
       "Разбиение 6                          32.114475                       1.209380\n",
       "Разбиение 7                          52.503254                       1.201702\n",
       "Разбиение 8                         121.921642                       1.399284\n",
       "Разбиение 9                          49.660980                       1.291430\n",
       "Разбиение 10                        335.566270                       1.214081"
      ]
     },
     "metadata": {},
     "output_type": "display_data"
    },
    {
     "data": {
      "image/png": "[encoded data removed]",
      "text/plain": [
       "<Figure size 1600x800 with 1 Axes>"
      ]
     },
     "metadata": {},
     "output_type": "display_data"
    }
   ],
   "source": [
    "umap_reducer = umap.UMAP(n_components=N_FACTORS, random_state=RANDOM_STATE)\n",
    "umap_metrics = regression_pipeline_gdsc_cv(umap_reducer, *pipeline_args_cv)\n",
    "\n",
    "m_f_umap, r_f_umap = umap_metrics.values()"
   ]
  },
  {
   "cell_type": "markdown",
   "metadata": {},
   "source": [
    "### Base Autoencoder"
   ]
  },
  {
   "cell_type": "code",
   "execution_count": 12,
   "metadata": {},
   "outputs": [
    {
     "name": "stderr",
     "output_type": "stream",
     "text": [
      "Detected kernel version 5.4.0, which is below the recommended minimum of 5.5.0; this can cause the process to hang. It is recommended to upgrade the kernel to the minimum version or higher.\n",
      "Failed to detect the name of this notebook, you can set it manually with the WANDB_NOTEBOOK_NAME environment variable to enable code saving.\n",
      "\u001b[34m\u001b[1mwandb\u001b[0m: Currently logged in as: \u001b[33mlisabeth-shevtsova\u001b[0m (\u001b[33mliza-i-pivko\u001b[0m). Use \u001b[1m`wandb login --relogin`\u001b[0m to force relogin\n"
     ]
    },
    {
     "data": {
      "text/html": [
       "wandb version 0.17.0 is available!  To upgrade, please run:\n",
       " $ pip install wandb --upgrade"
      ],
      "text/plain": [
       "<IPython.core.display.HTML object>"
      ]
     },
     "metadata": {},
     "output_type": "display_data"
    },
    {
     "data": {
      "text/html": [
       "Tracking run with wandb version 0.16.0"
      ],
      "text/plain": [
       "<IPython.core.display.HTML object>"
      ]
     },
     "metadata": {},
     "output_type": "display_data"
    },
    {
     "data": {
      "text/html": [
       "Run data is saved locally in <code>/home/eshevtsova/personal/multi-omics/wandb/run-20240519_185104-yd4bg5e5</code>"
      ],
      "text/plain": [
       "<IPython.core.display.HTML object>"
      ]
     },
     "metadata": {},
     "output_type": "display_data"
    },
    {
     "data": {
      "text/html": [
       "Syncing run <strong><a href='https://wandb.ai/liza-i-pivko/huggingface/runs/yd4bg5e5' target=\"_blank\">solar-haze-115</a></strong> to <a href='https://wandb.ai/liza-i-pivko/huggingface' target=\"_blank\">Weights & Biases</a> (<a href='https://wandb.me/run' target=\"_blank\">docs</a>)<br/>"
      ],
      "text/plain": [
       "<IPython.core.display.HTML object>"
      ]
     },
     "metadata": {},
     "output_type": "display_data"
    },
    {
     "data": {
      "text/html": [
       " View project at <a href='https://wandb.ai/liza-i-pivko/huggingface' target=\"_blank\">https://wandb.ai/liza-i-pivko/huggingface</a>"
      ],
      "text/plain": [
       "<IPython.core.display.HTML object>"
      ]
     },
     "metadata": {},
     "output_type": "display_data"
    },
    {
     "data": {
      "text/html": [
       " View run at <a href='https://wandb.ai/liza-i-pivko/huggingface/runs/yd4bg5e5' target=\"_blank\">https://wandb.ai/liza-i-pivko/huggingface/runs/yd4bg5e5</a>"
      ],
      "text/plain": [
       "<IPython.core.display.HTML object>"
      ]
     },
     "metadata": {},
     "output_type": "display_data"
    },
    {
     "data": {
      "text/html": [
       "\n",
       "    <div>\n",
       "      \n",
       "      <progress value='1000' max='1000' style='width:300px; height:20px; vertical-align: middle;'></progress>\n",
       "      [1000/1000 00:18, Epoch 50/50]\n",
       "    </div>\n",
       "    <table border=\"1\" class=\"dataframe\">\n",
       "  <thead>\n",
       " <tr style=\"text-align: left;\">\n",
       "      <th>Step</th>\n",
       "      <th>Training Loss</th>\n",
       "    </tr>\n",
       "  </thead>\n",
       "  <tbody>\n",
       "  </tbody>\n",
       "</table><p>"
      ],
      "text/plain": [
       "<IPython.core.display.HTML object>"
      ]
     },
     "metadata": {},
     "output_type": "display_data"
    },
    {
     "name": "stderr",
     "output_type": "stream",
     "text": [
      "Detected kernel version 5.4.0, which is below the recommended minimum of 5.5.0; this can cause the process to hang. It is recommended to upgrade the kernel to the minimum version or higher.\n"
     ]
    },
    {
     "data": {
      "text/html": [
       "\n",
       "    <div>\n",
       "      \n",
       "      <progress value='784' max='1000' style='width:300px; height:20px; vertical-align: middle;'></progress>\n",
       "      [ 784/1000 00:14 < 00:03, 54.65 it/s, Epoch 39.15/50]\n",
       "    </div>\n",
       "    <table border=\"1\" class=\"dataframe\">\n",
       "  <thead>\n",
       " <tr style=\"text-align: left;\">\n",
       "      <th>Step</th>\n",
       "      <th>Training Loss</th>\n",
       "    </tr>\n",
       "  </thead>\n",
       "  <tbody>\n",
       "  </tbody>\n",
       "</table><p>"
      ],
      "text/plain": [
       "<IPython.core.display.HTML object>"
      ]
     },
     "metadata": {},
     "output_type": "display_data"
    },
    {
     "name": "stderr",
     "output_type": "stream",
     "text": [
      "Detected kernel version 5.4.0, which is below the recommended minimum of 5.5.0; this can cause the process to hang. It is recommended to upgrade the kernel to the minimum version or higher.\n"
     ]
    },
    {
     "data": {
      "text/html": [
       "\n",
       "    <div>\n",
       "      \n",
       "      <progress value='1000' max='1000' style='width:300px; height:20px; vertical-align: middle;'></progress>\n",
       "      [1000/1000 00:17, Epoch 50/50]\n",
       "    </div>\n",
       "    <table border=\"1\" class=\"dataframe\">\n",
       "  <thead>\n",
       " <tr style=\"text-align: left;\">\n",
       "      <th>Step</th>\n",
       "      <th>Training Loss</th>\n",
       "    </tr>\n",
       "  </thead>\n",
       "  <tbody>\n",
       "  </tbody>\n",
       "</table><p>"
      ],
      "text/plain": [
       "<IPython.core.display.HTML object>"
      ]
     },
     "metadata": {},
     "output_type": "display_data"
    },
    {
     "name": "stderr",
     "output_type": "stream",
     "text": [
      "Detected kernel version 5.4.0, which is below the recommended minimum of 5.5.0; this can cause the process to hang. It is recommended to upgrade the kernel to the minimum version or higher.\n"
     ]
    },
    {
     "data": {
      "text/html": [
       "\n",
       "    <div>\n",
       "      \n",
       "      <progress value='1000' max='1000' style='width:300px; height:20px; vertical-align: middle;'></progress>\n",
       "      [1000/1000 00:18, Epoch 50/50]\n",
       "    </div>\n",
       "    <table border=\"1\" class=\"dataframe\">\n",
       "  <thead>\n",
       " <tr style=\"text-align: left;\">\n",
       "      <th>Step</th>\n",
       "      <th>Training Loss</th>\n",
       "    </tr>\n",
       "  </thead>\n",
       "  <tbody>\n",
       "  </tbody>\n",
       "</table><p>"
      ],
      "text/plain": [
       "<IPython.core.display.HTML object>"
      ]
     },
     "metadata": {},
     "output_type": "display_data"
    },
    {
     "name": "stderr",
     "output_type": "stream",
     "text": [
      "Detected kernel version 5.4.0, which is below the recommended minimum of 5.5.0; this can cause the process to hang. It is recommended to upgrade the kernel to the minimum version or higher.\n"
     ]
    },
    {
     "data": {
      "text/html": [
       "\n",
       "    <div>\n",
       "      \n",
       "      <progress value='1000' max='1000' style='width:300px; height:20px; vertical-align: middle;'></progress>\n",
       "      [1000/1000 00:18, Epoch 50/50]\n",
       "    </div>\n",
       "    <table border=\"1\" class=\"dataframe\">\n",
       "  <thead>\n",
       " <tr style=\"text-align: left;\">\n",
       "      <th>Step</th>\n",
       "      <th>Training Loss</th>\n",
       "    </tr>\n",
       "  </thead>\n",
       "  <tbody>\n",
       "  </tbody>\n",
       "</table><p>"
      ],
      "text/plain": [
       "<IPython.core.display.HTML object>"
      ]
     },
     "metadata": {},
     "output_type": "display_data"
    },
    {
     "name": "stderr",
     "output_type": "stream",
     "text": [
      "Detected kernel version 5.4.0, which is below the recommended minimum of 5.5.0; this can cause the process to hang. It is recommended to upgrade the kernel to the minimum version or higher.\n"
     ]
    },
    {
     "data": {
      "text/html": [
       "\n",
       "    <div>\n",
       "      \n",
       "      <progress value='1000' max='1000' style='width:300px; height:20px; vertical-align: middle;'></progress>\n",
       "      [1000/1000 00:17, Epoch 50/50]\n",
       "    </div>\n",
       "    <table border=\"1\" class=\"dataframe\">\n",
       "  <thead>\n",
       " <tr style=\"text-align: left;\">\n",
       "      <th>Step</th>\n",
       "      <th>Training Loss</th>\n",
       "    </tr>\n",
       "  </thead>\n",
       "  <tbody>\n",
       "  </tbody>\n",
       "</table><p>"
      ],
      "text/plain": [
       "<IPython.core.display.HTML object>"
      ]
     },
     "metadata": {},
     "output_type": "display_data"
    },
    {
     "name": "stderr",
     "output_type": "stream",
     "text": [
      "Detected kernel version 5.4.0, which is below the recommended minimum of 5.5.0; this can cause the process to hang. It is recommended to upgrade the kernel to the minimum version or higher.\n"
     ]
    },
    {
     "data": {
      "text/html": [
       "\n",
       "    <div>\n",
       "      \n",
       "      <progress value='1000' max='1000' style='width:300px; height:20px; vertical-align: middle;'></progress>\n",
       "      [1000/1000 00:17, Epoch 50/50]\n",
       "    </div>\n",
       "    <table border=\"1\" class=\"dataframe\">\n",
       "  <thead>\n",
       " <tr style=\"text-align: left;\">\n",
       "      <th>Step</th>\n",
       "      <th>Training Loss</th>\n",
       "    </tr>\n",
       "  </thead>\n",
       "  <tbody>\n",
       "  </tbody>\n",
       "</table><p>"
      ],
      "text/plain": [
       "<IPython.core.display.HTML object>"
      ]
     },
     "metadata": {},
     "output_type": "display_data"
    },
    {
     "name": "stderr",
     "output_type": "stream",
     "text": [
      "Detected kernel version 5.4.0, which is below the recommended minimum of 5.5.0; this can cause the process to hang. It is recommended to upgrade the kernel to the minimum version or higher.\n"
     ]
    },
    {
     "data": {
      "text/html": [
       "\n",
       "    <div>\n",
       "      \n",
       "      <progress value='1000' max='1000' style='width:300px; height:20px; vertical-align: middle;'></progress>\n",
       "      [1000/1000 00:17, Epoch 50/50]\n",
       "    </div>\n",
       "    <table border=\"1\" class=\"dataframe\">\n",
       "  <thead>\n",
       " <tr style=\"text-align: left;\">\n",
       "      <th>Step</th>\n",
       "      <th>Training Loss</th>\n",
       "    </tr>\n",
       "  </thead>\n",
       "  <tbody>\n",
       "  </tbody>\n",
       "</table><p>"
      ],
      "text/plain": [
       "<IPython.core.display.HTML object>"
      ]
     },
     "metadata": {},
     "output_type": "display_data"
    },
    {
     "name": "stderr",
     "output_type": "stream",
     "text": [
      "Detected kernel version 5.4.0, which is below the recommended minimum of 5.5.0; this can cause the process to hang. It is recommended to upgrade the kernel to the minimum version or higher.\n"
     ]
    },
    {
     "data": {
      "text/html": [
       "\n",
       "    <div>\n",
       "      \n",
       "      <progress value='1000' max='1000' style='width:300px; height:20px; vertical-align: middle;'></progress>\n",
       "      [1000/1000 00:17, Epoch 50/50]\n",
       "    </div>\n",
       "    <table border=\"1\" class=\"dataframe\">\n",
       "  <thead>\n",
       " <tr style=\"text-align: left;\">\n",
       "      <th>Step</th>\n",
       "      <th>Training Loss</th>\n",
       "    </tr>\n",
       "  </thead>\n",
       "  <tbody>\n",
       "  </tbody>\n",
       "</table><p>"
      ],
      "text/plain": [
       "<IPython.core.display.HTML object>"
      ]
     },
     "metadata": {},
     "output_type": "display_data"
    },
    {
     "name": "stderr",
     "output_type": "stream",
     "text": [
      "Detected kernel version 5.4.0, which is below the recommended minimum of 5.5.0; this can cause the process to hang. It is recommended to upgrade the kernel to the minimum version or higher.\n"
     ]
    },
    {
     "data": {
      "text/html": [
       "\n",
       "    <div>\n",
       "      \n",
       "      <progress value='1000' max='1000' style='width:300px; height:20px; vertical-align: middle;'></progress>\n",
       "      [1000/1000 00:17, Epoch 50/50]\n",
       "    </div>\n",
       "    <table border=\"1\" class=\"dataframe\">\n",
       "  <thead>\n",
       " <tr style=\"text-align: left;\">\n",
       "      <th>Step</th>\n",
       "      <th>Training Loss</th>\n",
       "    </tr>\n",
       "  </thead>\n",
       "  <tbody>\n",
       "  </tbody>\n",
       "</table><p>"
      ],
      "text/plain": [
       "<IPython.core.display.HTML object>"
      ]
     },
     "metadata": {},
     "output_type": "display_data"
    },
    {
     "data": {
      "text/html": [
       "<div>\n",
       "<style scoped>\n",
       "    .dataframe tbody tr th:only-of-type {\n",
       "        vertical-align: middle;\n",
       "    }\n",
       "\n",
       "    .dataframe tbody tr th {\n",
       "        vertical-align: top;\n",
       "    }\n",
       "\n",
       "    .dataframe thead th {\n",
       "        text-align: right;\n",
       "    }\n",
       "</style>\n",
       "<table border=\"1\" class=\"dataframe\">\n",
       "  <thead>\n",
       "    <tr style=\"text-align: right;\">\n",
       "      <th></th>\n",
       "      <th>MAPE предсказания по факторам, %</th>\n",
       "      <th>MAPE предсказания по факторам</th>\n",
       "    </tr>\n",
       "  </thead>\n",
       "  <tbody>\n",
       "    <tr>\n",
       "      <th>Разбиение 1</th>\n",
       "      <td>69.547691</td>\n",
       "      <td>1.352297</td>\n",
       "    </tr>\n",
       "    <tr>\n",
       "      <th>Разбиение 2</th>\n",
       "      <td>38.424909</td>\n",
       "      <td>0.941464</td>\n",
       "    </tr>\n",
       "    <tr>\n",
       "      <th>Разбиение 3</th>\n",
       "      <td>56.706017</td>\n",
       "      <td>1.087112</td>\n",
       "    </tr>\n",
       "    <tr>\n",
       "      <th>Разбиение 4</th>\n",
       "      <td>102.923356</td>\n",
       "      <td>1.214856</td>\n",
       "    </tr>\n",
       "    <tr>\n",
       "      <th>Разбиение 5</th>\n",
       "      <td>141.649271</td>\n",
       "      <td>1.135801</td>\n",
       "    </tr>\n",
       "    <tr>\n",
       "      <th>Разбиение 6</th>\n",
       "      <td>32.867099</td>\n",
       "      <td>1.172404</td>\n",
       "    </tr>\n",
       "    <tr>\n",
       "      <th>Разбиение 7</th>\n",
       "      <td>52.703676</td>\n",
       "      <td>1.159781</td>\n",
       "    </tr>\n",
       "    <tr>\n",
       "      <th>Разбиение 8</th>\n",
       "      <td>124.124108</td>\n",
       "      <td>1.348939</td>\n",
       "    </tr>\n",
       "    <tr>\n",
       "      <th>Разбиение 9</th>\n",
       "      <td>50.426311</td>\n",
       "      <td>1.184821</td>\n",
       "    </tr>\n",
       "    <tr>\n",
       "      <th>Разбиение 10</th>\n",
       "      <td>334.359747</td>\n",
       "      <td>1.188695</td>\n",
       "    </tr>\n",
       "  </tbody>\n",
       "</table>\n",
       "</div>"
      ],
      "text/plain": [
       "              MAPE предсказания по факторам, %  MAPE предсказания по факторам\n",
       "Разбиение 1                          69.547691                       1.352297\n",
       "Разбиение 2                          38.424909                       0.941464\n",
       "Разбиение 3                          56.706017                       1.087112\n",
       "Разбиение 4                         102.923356                       1.214856\n",
       "Разбиение 5                         141.649271                       1.135801\n",
       "Разбиение 6                          32.867099                       1.172404\n",
       "Разбиение 7                          52.703676                       1.159781\n",
       "Разбиение 8                         124.124108                       1.348939\n",
       "Разбиение 9                          50.426311                       1.184821\n",
       "Разбиение 10                        334.359747                       1.188695"
      ]
     },
     "metadata": {},
     "output_type": "display_data"
    },
    {
     "data": {
      "image/png": "[encoded data removed]",
      "text/plain": [
       "<Figure size 1600x800 with 1 Axes>"
      ]
     },
     "metadata": {},
     "output_type": "display_data"
    }
   ],
   "source": [
    "base_auto_metrics = regression_pipeline_gdsc_cv(EncoderPipeline, X_all_sep, *pipeline_args_cv[1:])\n",
    "\n",
    "m_f_base_auto, r_f_base_auto = base_auto_metrics.values()"
   ]
  },
  {
   "cell_type": "markdown",
   "metadata": {},
   "source": [
    "### Triple Autoencoder"
   ]
  },
  {
   "cell_type": "code",
   "execution_count": 13,
   "metadata": {},
   "outputs": [
    {
     "name": "stderr",
     "output_type": "stream",
     "text": [
      "Detected kernel version 5.4.0, which is below the recommended minimum of 5.5.0; this can cause the process to hang. It is recommended to upgrade the kernel to the minimum version or higher.\n"
     ]
    },
    {
     "data": {
      "text/html": [
       "\n",
       "    <div>\n",
       "      \n",
       "      <progress value='1000' max='1000' style='width:300px; height:20px; vertical-align: middle;'></progress>\n",
       "      [1000/1000 00:20, Epoch 50/50]\n",
       "    </div>\n",
       "    <table border=\"1\" class=\"dataframe\">\n",
       "  <thead>\n",
       " <tr style=\"text-align: left;\">\n",
       "      <th>Step</th>\n",
       "      <th>Training Loss</th>\n",
       "    </tr>\n",
       "  </thead>\n",
       "  <tbody>\n",
       "  </tbody>\n",
       "</table><p>"
      ],
      "text/plain": [
       "<IPython.core.display.HTML object>"
      ]
     },
     "metadata": {},
     "output_type": "display_data"
    },
    {
     "name": "stderr",
     "output_type": "stream",
     "text": [
      "Detected kernel version 5.4.0, which is below the recommended minimum of 5.5.0; this can cause the process to hang. It is recommended to upgrade the kernel to the minimum version or higher.\n"
     ]
    },
    {
     "data": {
      "text/html": [
       "\n",
       "    <div>\n",
       "      \n",
       "      <progress value='1000' max='1000' style='width:300px; height:20px; vertical-align: middle;'></progress>\n",
       "      [1000/1000 00:21, Epoch 50/50]\n",
       "    </div>\n",
       "    <table border=\"1\" class=\"dataframe\">\n",
       "  <thead>\n",
       " <tr style=\"text-align: left;\">\n",
       "      <th>Step</th>\n",
       "      <th>Training Loss</th>\n",
       "    </tr>\n",
       "  </thead>\n",
       "  <tbody>\n",
       "  </tbody>\n",
       "</table><p>"
      ],
      "text/plain": [
       "<IPython.core.display.HTML object>"
      ]
     },
     "metadata": {},
     "output_type": "display_data"
    },
    {
     "name": "stderr",
     "output_type": "stream",
     "text": [
      "Detected kernel version 5.4.0, which is below the recommended minimum of 5.5.0; this can cause the process to hang. It is recommended to upgrade the kernel to the minimum version or higher.\n"
     ]
    },
    {
     "data": {
      "text/html": [
       "\n",
       "    <div>\n",
       "      \n",
       "      <progress value='1000' max='1000' style='width:300px; height:20px; vertical-align: middle;'></progress>\n",
       "      [1000/1000 00:23, Epoch 50/50]\n",
       "    </div>\n",
       "    <table border=\"1\" class=\"dataframe\">\n",
       "  <thead>\n",
       " <tr style=\"text-align: left;\">\n",
       "      <th>Step</th>\n",
       "      <th>Training Loss</th>\n",
       "    </tr>\n",
       "  </thead>\n",
       "  <tbody>\n",
       "  </tbody>\n",
       "</table><p>"
      ],
      "text/plain": [
       "<IPython.core.display.HTML object>"
      ]
     },
     "metadata": {},
     "output_type": "display_data"
    },
    {
     "name": "stderr",
     "output_type": "stream",
     "text": [
      "Detected kernel version 5.4.0, which is below the recommended minimum of 5.5.0; this can cause the process to hang. It is recommended to upgrade the kernel to the minimum version or higher.\n"
     ]
    },
    {
     "data": {
      "text/html": [
       "\n",
       "    <div>\n",
       "      \n",
       "      <progress value='1000' max='1000' style='width:300px; height:20px; vertical-align: middle;'></progress>\n",
       "      [1000/1000 00:22, Epoch 50/50]\n",
       "    </div>\n",
       "    <table border=\"1\" class=\"dataframe\">\n",
       "  <thead>\n",
       " <tr style=\"text-align: left;\">\n",
       "      <th>Step</th>\n",
       "      <th>Training Loss</th>\n",
       "    </tr>\n",
       "  </thead>\n",
       "  <tbody>\n",
       "  </tbody>\n",
       "</table><p>"
      ],
      "text/plain": [
       "<IPython.core.display.HTML object>"
      ]
     },
     "metadata": {},
     "output_type": "display_data"
    },
    {
     "name": "stderr",
     "output_type": "stream",
     "text": [
      "Detected kernel version 5.4.0, which is below the recommended minimum of 5.5.0; this can cause the process to hang. It is recommended to upgrade the kernel to the minimum version or higher.\n"
     ]
    },
    {
     "data": {
      "text/html": [
       "\n",
       "    <div>\n",
       "      \n",
       "      <progress value='1000' max='1000' style='width:300px; height:20px; vertical-align: middle;'></progress>\n",
       "      [1000/1000 00:21, Epoch 50/50]\n",
       "    </div>\n",
       "    <table border=\"1\" class=\"dataframe\">\n",
       "  <thead>\n",
       " <tr style=\"text-align: left;\">\n",
       "      <th>Step</th>\n",
       "      <th>Training Loss</th>\n",
       "    </tr>\n",
       "  </thead>\n",
       "  <tbody>\n",
       "  </tbody>\n",
       "</table><p>"
      ],
      "text/plain": [
       "<IPython.core.display.HTML object>"
      ]
     },
     "metadata": {},
     "output_type": "display_data"
    },
    {
     "name": "stderr",
     "output_type": "stream",
     "text": [
      "Detected kernel version 5.4.0, which is below the recommended minimum of 5.5.0; this can cause the process to hang. It is recommended to upgrade the kernel to the minimum version or higher.\n"
     ]
    },
    {
     "data": {
      "text/html": [
       "\n",
       "    <div>\n",
       "      \n",
       "      <progress value='1000' max='1000' style='width:300px; height:20px; vertical-align: middle;'></progress>\n",
       "      [1000/1000 00:22, Epoch 50/50]\n",
       "    </div>\n",
       "    <table border=\"1\" class=\"dataframe\">\n",
       "  <thead>\n",
       " <tr style=\"text-align: left;\">\n",
       "      <th>Step</th>\n",
       "      <th>Training Loss</th>\n",
       "    </tr>\n",
       "  </thead>\n",
       "  <tbody>\n",
       "  </tbody>\n",
       "</table><p>"
      ],
      "text/plain": [
       "<IPython.core.display.HTML object>"
      ]
     },
     "metadata": {},
     "output_type": "display_data"
    },
    {
     "name": "stderr",
     "output_type": "stream",
     "text": [
      "Detected kernel version 5.4.0, which is below the recommended minimum of 5.5.0; this can cause the process to hang. It is recommended to upgrade the kernel to the minimum version or higher.\n"
     ]
    },
    {
     "data": {
      "text/html": [
       "\n",
       "    <div>\n",
       "      \n",
       "      <progress value='1000' max='1000' style='width:300px; height:20px; vertical-align: middle;'></progress>\n",
       "      [1000/1000 00:19, Epoch 50/50]\n",
       "    </div>\n",
       "    <table border=\"1\" class=\"dataframe\">\n",
       "  <thead>\n",
       " <tr style=\"text-align: left;\">\n",
       "      <th>Step</th>\n",
       "      <th>Training Loss</th>\n",
       "    </tr>\n",
       "  </thead>\n",
       "  <tbody>\n",
       "  </tbody>\n",
       "</table><p>"
      ],
      "text/plain": [
       "<IPython.core.display.HTML object>"
      ]
     },
     "metadata": {},
     "output_type": "display_data"
    },
    {
     "name": "stderr",
     "output_type": "stream",
     "text": [
      "Detected kernel version 5.4.0, which is below the recommended minimum of 5.5.0; this can cause the process to hang. It is recommended to upgrade the kernel to the minimum version or higher.\n"
     ]
    },
    {
     "data": {
      "text/html": [
       "\n",
       "    <div>\n",
       "      \n",
       "      <progress value='1000' max='1000' style='width:300px; height:20px; vertical-align: middle;'></progress>\n",
       "      [1000/1000 00:20, Epoch 50/50]\n",
       "    </div>\n",
       "    <table border=\"1\" class=\"dataframe\">\n",
       "  <thead>\n",
       " <tr style=\"text-align: left;\">\n",
       "      <th>Step</th>\n",
       "      <th>Training Loss</th>\n",
       "    </tr>\n",
       "  </thead>\n",
       "  <tbody>\n",
       "  </tbody>\n",
       "</table><p>"
      ],
      "text/plain": [
       "<IPython.core.display.HTML object>"
      ]
     },
     "metadata": {},
     "output_type": "display_data"
    },
    {
     "name": "stderr",
     "output_type": "stream",
     "text": [
      "Detected kernel version 5.4.0, which is below the recommended minimum of 5.5.0; this can cause the process to hang. It is recommended to upgrade the kernel to the minimum version or higher.\n"
     ]
    },
    {
     "data": {
      "text/html": [
       "\n",
       "    <div>\n",
       "      \n",
       "      <progress value='1000' max='1000' style='width:300px; height:20px; vertical-align: middle;'></progress>\n",
       "      [1000/1000 00:20, Epoch 50/50]\n",
       "    </div>\n",
       "    <table border=\"1\" class=\"dataframe\">\n",
       "  <thead>\n",
       " <tr style=\"text-align: left;\">\n",
       "      <th>Step</th>\n",
       "      <th>Training Loss</th>\n",
       "    </tr>\n",
       "  </thead>\n",
       "  <tbody>\n",
       "  </tbody>\n",
       "</table><p>"
      ],
      "text/plain": [
       "<IPython.core.display.HTML object>"
      ]
     },
     "metadata": {},
     "output_type": "display_data"
    },
    {
     "name": "stderr",
     "output_type": "stream",
     "text": [
      "Detected kernel version 5.4.0, which is below the recommended minimum of 5.5.0; this can cause the process to hang. It is recommended to upgrade the kernel to the minimum version or higher.\n"
     ]
    },
    {
     "data": {
      "text/html": [
       "\n",
       "    <div>\n",
       "      \n",
       "      <progress value='1000' max='1000' style='width:300px; height:20px; vertical-align: middle;'></progress>\n",
       "      [1000/1000 00:21, Epoch 50/50]\n",
       "    </div>\n",
       "    <table border=\"1\" class=\"dataframe\">\n",
       "  <thead>\n",
       " <tr style=\"text-align: left;\">\n",
       "      <th>Step</th>\n",
       "      <th>Training Loss</th>\n",
       "    </tr>\n",
       "  </thead>\n",
       "  <tbody>\n",
       "  </tbody>\n",
       "</table><p>"
      ],
      "text/plain": [
       "<IPython.core.display.HTML object>"
      ]
     },
     "metadata": {},
     "output_type": "display_data"
    },
    {
     "data": {
      "text/html": [
       "<div>\n",
       "<style scoped>\n",
       "    .dataframe tbody tr th:only-of-type {\n",
       "        vertical-align: middle;\n",
       "    }\n",
       "\n",
       "    .dataframe tbody tr th {\n",
       "        vertical-align: top;\n",
       "    }\n",
       "\n",
       "    .dataframe thead th {\n",
       "        text-align: right;\n",
       "    }\n",
       "</style>\n",
       "<table border=\"1\" class=\"dataframe\">\n",
       "  <thead>\n",
       "    <tr style=\"text-align: right;\">\n",
       "      <th></th>\n",
       "      <th>MAPE предсказания по факторам, %</th>\n",
       "      <th>MAPE предсказания по факторам</th>\n",
       "    </tr>\n",
       "  </thead>\n",
       "  <tbody>\n",
       "    <tr>\n",
       "      <th>Разбиение 1</th>\n",
       "      <td>73.654184</td>\n",
       "      <td>1.580289</td>\n",
       "    </tr>\n",
       "    <tr>\n",
       "      <th>Разбиение 2</th>\n",
       "      <td>42.204079</td>\n",
       "      <td>1.389388</td>\n",
       "    </tr>\n",
       "    <tr>\n",
       "      <th>Разбиение 3</th>\n",
       "      <td>67.213548</td>\n",
       "      <td>1.142393</td>\n",
       "    </tr>\n",
       "    <tr>\n",
       "      <th>Разбиение 4</th>\n",
       "      <td>76.253674</td>\n",
       "      <td>1.203732</td>\n",
       "    </tr>\n",
       "    <tr>\n",
       "      <th>Разбиение 5</th>\n",
       "      <td>144.901652</td>\n",
       "      <td>1.161785</td>\n",
       "    </tr>\n",
       "    <tr>\n",
       "      <th>Разбиение 6</th>\n",
       "      <td>36.954867</td>\n",
       "      <td>1.091552</td>\n",
       "    </tr>\n",
       "    <tr>\n",
       "      <th>Разбиение 7</th>\n",
       "      <td>51.276926</td>\n",
       "      <td>1.137101</td>\n",
       "    </tr>\n",
       "    <tr>\n",
       "      <th>Разбиение 8</th>\n",
       "      <td>93.307751</td>\n",
       "      <td>1.327109</td>\n",
       "    </tr>\n",
       "    <tr>\n",
       "      <th>Разбиение 9</th>\n",
       "      <td>77.392418</td>\n",
       "      <td>1.454903</td>\n",
       "    </tr>\n",
       "    <tr>\n",
       "      <th>Разбиение 10</th>\n",
       "      <td>324.471417</td>\n",
       "      <td>1.150845</td>\n",
       "    </tr>\n",
       "  </tbody>\n",
       "</table>\n",
       "</div>"
      ],
      "text/plain": [
       "              MAPE предсказания по факторам, %  MAPE предсказания по факторам\n",
       "Разбиение 1                          73.654184                       1.580289\n",
       "Разбиение 2                          42.204079                       1.389388\n",
       "Разбиение 3                          67.213548                       1.142393\n",
       "Разбиение 4                          76.253674                       1.203732\n",
       "Разбиение 5                         144.901652                       1.161785\n",
       "Разбиение 6                          36.954867                       1.091552\n",
       "Разбиение 7                          51.276926                       1.137101\n",
       "Разбиение 8                          93.307751                       1.327109\n",
       "Разбиение 9                          77.392418                       1.454903\n",
       "Разбиение 10                        324.471417                       1.150845"
      ]
     },
     "metadata": {},
     "output_type": "display_data"
    },
    {
     "data": {
      "image/png": "[encoded data removed]",
      "text/plain": [
       "<Figure size 1600x800 with 1 Axes>"
      ]
     },
     "metadata": {},
     "output_type": "display_data"
    }
   ],
   "source": [
    "triple_auto_metrics = regression_pipeline_gdsc_cv(EncoderPipeline, X_all_sep, *pipeline_args_cv[1:], base_encoder=False)\n",
    "\n",
    "m_f_triple_auto, r_f_triple_auto = triple_auto_metrics.values()"
   ]
  },
  {
   "cell_type": "markdown",
   "metadata": {},
   "source": [
    "### Регрессия, результаты:"
   ]
  },
  {
   "cell_type": "code",
   "execution_count": 14,
   "metadata": {},
   "outputs": [
    {
     "data": {
      "text/html": [
       "<div>\n",
       "<style scoped>\n",
       "    .dataframe tbody tr th:only-of-type {\n",
       "        vertical-align: middle;\n",
       "    }\n",
       "\n",
       "    .dataframe tbody tr th {\n",
       "        vertical-align: top;\n",
       "    }\n",
       "\n",
       "    .dataframe thead th {\n",
       "        text-align: right;\n",
       "    }\n",
       "</style>\n",
       "<table border=\"1\" class=\"dataframe\">\n",
       "  <thead>\n",
       "    <tr style=\"text-align: right;\">\n",
       "      <th></th>\n",
       "      <th>MAPE factors, %</th>\n",
       "      <th>RMSE factors, %</th>\n",
       "      <th>Method Average</th>\n",
       "    </tr>\n",
       "  </thead>\n",
       "  <tbody>\n",
       "    <tr>\n",
       "      <th>No factorization</th>\n",
       "      <td>85.070890</td>\n",
       "      <td>1.057741</td>\n",
       "      <td>43.064316</td>\n",
       "    </tr>\n",
       "    <tr>\n",
       "      <th>PCA</th>\n",
       "      <td>90.950579</td>\n",
       "      <td>1.141820</td>\n",
       "      <td>46.046199</td>\n",
       "    </tr>\n",
       "    <tr>\n",
       "      <th>UMAP</th>\n",
       "      <td>102.721135</td>\n",
       "      <td>1.231497</td>\n",
       "      <td>51.976316</td>\n",
       "    </tr>\n",
       "    <tr>\n",
       "      <th>MOFA</th>\n",
       "      <td>95.004440</td>\n",
       "      <td>1.155773</td>\n",
       "      <td>48.080106</td>\n",
       "    </tr>\n",
       "    <tr>\n",
       "      <th>MCCA</th>\n",
       "      <td>90.803315</td>\n",
       "      <td>1.153199</td>\n",
       "      <td>45.978257</td>\n",
       "    </tr>\n",
       "    <tr>\n",
       "      <th>Base Autoencoder</th>\n",
       "      <td>100.373218</td>\n",
       "      <td>1.178617</td>\n",
       "      <td>50.775918</td>\n",
       "    </tr>\n",
       "    <tr>\n",
       "      <th>Triple Autoencoder</th>\n",
       "      <td>98.763052</td>\n",
       "      <td>1.263910</td>\n",
       "      <td>50.013481</td>\n",
       "    </tr>\n",
       "    <tr>\n",
       "      <th>All Methods Average</th>\n",
       "      <td>94.812375</td>\n",
       "      <td>1.168937</td>\n",
       "      <td>-</td>\n",
       "    </tr>\n",
       "  </tbody>\n",
       "</table>\n",
       "</div>"
      ],
      "text/plain": [
       "                     MAPE factors, %  RMSE factors, % Method Average\n",
       "No factorization           85.070890         1.057741      43.064316\n",
       "PCA                        90.950579         1.141820      46.046199\n",
       "UMAP                      102.721135         1.231497      51.976316\n",
       "MOFA                       95.004440         1.155773      48.080106\n",
       "MCCA                       90.803315         1.153199      45.978257\n",
       "Base Autoencoder          100.373218         1.178617      50.775918\n",
       "Triple Autoencoder         98.763052         1.263910      50.013481\n",
       "All Methods Average        94.812375         1.168937              -"
      ]
     },
     "execution_count": 14,
     "metadata": {},
     "output_type": "execute_result"
    }
   ],
   "source": [
    "regr_results = pd.DataFrame({\n",
    "    'MAPE factors, %': [m_f_base, m_f_pca, m_f_umap, m_f_mofa, m_f_mcca, m_f_base_auto, m_f_triple_auto],\n",
    "    'RMSE factors, %': [r_f_base, r_f_pca, r_f_umap, r_f_mofa, r_f_mcca, r_f_base_auto, r_f_triple_auto],\n",
    "}, index=['No factorization', 'PCA', 'UMAP', 'MOFA', 'MCCA', 'Base Autoencoder', 'Triple Autoencoder'])\n",
    "\n",
    "regr_results['Method Average'] = regr_results.mean(axis=1)\n",
    "column_means = regr_results.iloc[:, :-1].mean(axis=0)\n",
    "regr_results.loc['All Methods Average'] = column_means.tolist() + ['-']\n",
    "\n",
    "regr_results"
   ]
  },
  {
   "cell_type": "markdown",
   "metadata": {},
   "source": [
    "### *В задаче предсказания ic50 по факторам, используя CatboostRegressor, лучше всего оказалась MOFA*"
   ]
  }
 ],
 "metadata": {
  "kernelspec": {
   "display_name": "Python 3",
   "language": "python",
   "name": "python3"
  },
  "language_info": {
   "codemirror_mode": {
    "name": "ipython",
    "version": 3
   },
   "file_extension": ".py",
   "mimetype": "text/x-python",
   "name": "python",
   "nbconvert_exporter": "python",
   "pygments_lexer": "ipython3",
   "version": "3.11.4"
  }
 },
 "nbformat": 4,
 "nbformat_minor": 2
}
