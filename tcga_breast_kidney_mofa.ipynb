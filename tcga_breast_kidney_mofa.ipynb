{
 "cells": [
  {
   "cell_type": "code",
   "execution_count": 1,
   "metadata": {},
   "outputs": [],
   "source": [
    "import pandas as pd\n",
    "import numpy as np\n",
    "import time\n",
    "import matplotlib.pyplot as plt\n",
    "import seaborn as sns\n",
    "from IPython.display import clear_output\n",
    "import json \n",
    "import csv\n",
    "from sklearn.model_selection import train_test_split, ParameterGrid\n",
    "from sklearn.metrics import accuracy_score, f1_score, roc_curve, roc_auc_score\n",
    "from sklearn.preprocessing import StandardScaler, MinMaxScaler\n",
    "\n",
    "from catboost import CatBoostClassifier\n",
    "\n",
    "import sys\n",
    "sys.path.append(\"..\")\n",
    "\n",
    "from src.tcga_preprocess_utils import prepare_data, choose_common_patients\n",
    "from src.mofa_utils import transform_df_for_mofa, preprocess_data_for_mofa, train_mofa"
   ]
  },
  {
   "cell_type": "code",
   "execution_count": 2,
   "metadata": {},
   "outputs": [],
   "source": [
    "RANDOM_STATE = 42"
   ]
  },
  {
   "cell_type": "code",
   "execution_count": 3,
   "metadata": {},
   "outputs": [],
   "source": [
    "expression_data_breast = prepare_data('data/breast/exp')\n",
    "expression_data_breast = preprocess_data_for_mofa(expression_data_breast)\n",
    "\n",
    "methylation_data_breast = prepare_data('data/breast/methy')\n",
    "methylation_data_breast = preprocess_data_for_mofa(methylation_data_breast)\n",
    "\n",
    "mirna_data_breast = prepare_data('data/breast/mirna')\n",
    "mirna_data_breast = preprocess_data_for_mofa(mirna_data_breast)\n",
    "\n",
    "expression_data_kidney = prepare_data('data/kidney/exp')\n",
    "expression_data_kidney = preprocess_data_for_mofa(expression_data_kidney)\n",
    "\n",
    "methylation_data_kidney = prepare_data('data/kidney/methy')\n",
    "methylation_data_kidney = preprocess_data_for_mofa(methylation_data_kidney)\n",
    "\n",
    "mirna_data_kidney = prepare_data('data/kidney/mirna')\n",
    "mirna_data_kidney = preprocess_data_for_mofa(mirna_data_kidney)\n",
    "\n",
    "expression_data_breast, methylation_data_breast, mirna_data_breast = choose_common_patients(\n",
    "    [expression_data_breast, methylation_data_breast, mirna_data_breast])\n",
    "\n",
    "expression_data_kidney, methylation_data_kidney, mirna_data_kidney = choose_common_patients(\n",
    "    [expression_data_kidney, methylation_data_kidney, mirna_data_kidney])"
   ]
  },
  {
   "cell_type": "code",
   "execution_count": 4,
   "metadata": {},
   "outputs": [
    {
     "name": "stdout",
     "output_type": "stream",
     "text": [
      "Кол-во общих генов:  1155\n",
      "Кол-во общих метил:  128\n",
      "Кол-во общих мрнк:  168\n"
     ]
    }
   ],
   "source": [
    "common_genes = set(expression_data_breast.columns).intersection(expression_data_kidney.columns)\n",
    "print('Кол-во общих генов: ', len(common_genes))\n",
    "common_meth = set(methylation_data_breast.columns).intersection(methylation_data_kidney.columns)\n",
    "print('Кол-во общих метил: ', len(common_meth))\n",
    "common_mirna = set(mirna_data_breast.columns).intersection(mirna_data_kidney.columns)\n",
    "print('Кол-во общих мрнк: ', len(common_mirna))\n"
   ]
  },
  {
   "cell_type": "code",
   "execution_count": 5,
   "metadata": {},
   "outputs": [
    {
     "name": "stdout",
     "output_type": "stream",
     "text": [
      "Кол-во общих пациентов:  0\n"
     ]
    }
   ],
   "source": [
    "print('Кол-во общих пациентов: ', len(set(expression_data_breast.index).intersection(expression_data_kidney.index)))"
   ]
  },
  {
   "cell_type": "code",
   "execution_count": 6,
   "metadata": {},
   "outputs": [],
   "source": [
    "expression_data_breast,  expression_data_kidney = expression_data_breast[\n",
    "    common_genes], expression_data_kidney[common_genes]\n",
    "methylation_data_breast, methylation_data_kidney = methylation_data_breast[\n",
    "    common_meth], methylation_data_kidney[common_meth]\n",
    "mirna_data_breast, mirna_data_kidney = mirna_data_breast[\n",
    "    common_mirna], mirna_data_kidney[common_mirna]"
   ]
  },
  {
   "cell_type": "code",
   "execution_count": 7,
   "metadata": {},
   "outputs": [
    {
     "data": {
      "text/html": [
       "<div>\n",
       "<style scoped>\n",
       "    .dataframe tbody tr th:only-of-type {\n",
       "        vertical-align: middle;\n",
       "    }\n",
       "\n",
       "    .dataframe tbody tr th {\n",
       "        vertical-align: top;\n",
       "    }\n",
       "\n",
       "    .dataframe thead th {\n",
       "        text-align: right;\n",
       "    }\n",
       "</style>\n",
       "<table border=\"1\" class=\"dataframe\">\n",
       "  <thead>\n",
       "    <tr style=\"text-align: right;\">\n",
       "      <th></th>\n",
       "      <th>sample</th>\n",
       "      <th>feature</th>\n",
       "      <th>value</th>\n",
       "      <th>view</th>\n",
       "      <th>group</th>\n",
       "    </tr>\n",
       "  </thead>\n",
       "  <tbody>\n",
       "    <tr>\n",
       "      <th>0</th>\n",
       "      <td>tcga.3c.aaau</td>\n",
       "      <td>AKAP6|9472</td>\n",
       "      <td>0.115106</td>\n",
       "      <td>DNA</td>\n",
       "      <td>group_0</td>\n",
       "    </tr>\n",
       "    <tr>\n",
       "      <th>1</th>\n",
       "      <td>tcga.3c.aali</td>\n",
       "      <td>AKAP6|9472</td>\n",
       "      <td>0.116965</td>\n",
       "      <td>DNA</td>\n",
       "      <td>group_0</td>\n",
       "    </tr>\n",
       "    <tr>\n",
       "      <th>2</th>\n",
       "      <td>tcga.3c.aalj</td>\n",
       "      <td>AKAP6|9472</td>\n",
       "      <td>0.115593</td>\n",
       "      <td>DNA</td>\n",
       "      <td>group_0</td>\n",
       "    </tr>\n",
       "    <tr>\n",
       "      <th>3</th>\n",
       "      <td>tcga.3c.aalk</td>\n",
       "      <td>AKAP6|9472</td>\n",
       "      <td>0.115947</td>\n",
       "      <td>DNA</td>\n",
       "      <td>group_0</td>\n",
       "    </tr>\n",
       "    <tr>\n",
       "      <th>4</th>\n",
       "      <td>tcga.4h.aaak</td>\n",
       "      <td>AKAP6|9472</td>\n",
       "      <td>0.118333</td>\n",
       "      <td>DNA</td>\n",
       "      <td>group_0</td>\n",
       "    </tr>\n",
       "    <tr>\n",
       "      <th>...</th>\n",
       "      <td>...</td>\n",
       "      <td>...</td>\n",
       "      <td>...</td>\n",
       "      <td>...</td>\n",
       "      <td>...</td>\n",
       "    </tr>\n",
       "    <tr>\n",
       "      <th>34939</th>\n",
       "      <td>tcga.mm.a563</td>\n",
       "      <td>hsa-mir-3065</td>\n",
       "      <td>0.112080</td>\n",
       "      <td>RNA</td>\n",
       "      <td>group_1</td>\n",
       "    </tr>\n",
       "    <tr>\n",
       "      <th>34940</th>\n",
       "      <td>tcga.mm.a564</td>\n",
       "      <td>hsa-mir-3065</td>\n",
       "      <td>0.122717</td>\n",
       "      <td>RNA</td>\n",
       "      <td>group_1</td>\n",
       "    </tr>\n",
       "    <tr>\n",
       "      <th>34941</th>\n",
       "      <td>tcga.mm.a84u</td>\n",
       "      <td>hsa-mir-3065</td>\n",
       "      <td>0.138076</td>\n",
       "      <td>RNA</td>\n",
       "      <td>group_1</td>\n",
       "    </tr>\n",
       "    <tr>\n",
       "      <th>34942</th>\n",
       "      <td>tcga.mw.a4ec</td>\n",
       "      <td>hsa-mir-3065</td>\n",
       "      <td>0.115280</td>\n",
       "      <td>RNA</td>\n",
       "      <td>group_1</td>\n",
       "    </tr>\n",
       "    <tr>\n",
       "      <th>34943</th>\n",
       "      <td>tcga.t7.a92i</td>\n",
       "      <td>hsa-mir-3065</td>\n",
       "      <td>0.113706</td>\n",
       "      <td>RNA</td>\n",
       "      <td>group_1</td>\n",
       "    </tr>\n",
       "  </tbody>\n",
       "</table>\n",
       "<p>1295743 rows × 5 columns</p>\n",
       "</div>"
      ],
      "text/plain": [
       "             sample       feature     value view    group\n",
       "0      tcga.3c.aaau    AKAP6|9472  0.115106  DNA  group_0\n",
       "1      tcga.3c.aali    AKAP6|9472  0.116965  DNA  group_0\n",
       "2      tcga.3c.aalj    AKAP6|9472  0.115593  DNA  group_0\n",
       "3      tcga.3c.aalk    AKAP6|9472  0.115947  DNA  group_0\n",
       "4      tcga.4h.aaak    AKAP6|9472  0.118333  DNA  group_0\n",
       "...             ...           ...       ...  ...      ...\n",
       "34939  tcga.mm.a563  hsa-mir-3065  0.112080  RNA  group_1\n",
       "34940  tcga.mm.a564  hsa-mir-3065  0.122717  RNA  group_1\n",
       "34941  tcga.mm.a84u  hsa-mir-3065  0.138076  RNA  group_1\n",
       "34942  tcga.mw.a4ec  hsa-mir-3065  0.115280  RNA  group_1\n",
       "34943  tcga.t7.a92i  hsa-mir-3065  0.113706  RNA  group_1\n",
       "\n",
       "[1295743 rows x 5 columns]"
      ]
     },
     "execution_count": 7,
     "metadata": {},
     "output_type": "execute_result"
    }
   ],
   "source": [
    "transformed_expression_data_breast = transform_df_for_mofa(\n",
    "    expression_data_breast.copy(), 'DNA')\n",
    "transformed_methylation_breast = transform_df_for_mofa(\n",
    "    methylation_data_breast.copy(), 'Methylation')\n",
    "transformed_mirna_data_breast = transform_df_for_mofa(\n",
    "    mirna_data_breast.copy(), 'RNA')\n",
    "combined_data_breast = pd.concat([transformed_expression_data_breast,\n",
    "                                  transformed_methylation_breast, transformed_mirna_data_breast], axis=0)\n",
    "combined_data_breast['group'] = 'group_0'\n",
    "\n",
    "transformed_expression_data_kidney = transform_df_for_mofa(\n",
    "    expression_data_kidney.copy(), 'DNA')\n",
    "transformed_methylation_kidney  = transform_df_for_mofa(\n",
    "    methylation_data_kidney.copy(), 'Methylation')\n",
    "transformed_mirna_data_kidney  = transform_df_for_mofa(\n",
    "    mirna_data_kidney.copy(), 'RNA')\n",
    "combined_data_kidney = pd.concat([transformed_expression_data_kidney,\n",
    "                                  transformed_methylation_kidney, transformed_mirna_data_kidney], axis=0)\n",
    "combined_data_kidney['group'] = 'group_1'\n",
    "\n",
    "combined_data = pd.concat([combined_data_breast, combined_data_kidney], axis=0)\n",
    "scaler = MinMaxScaler()\n",
    "combined_data['value'] = scaler.fit_transform(combined_data[['value']])\n",
    "\n",
    "combined_data"
   ]
  },
  {
   "cell_type": "code",
   "execution_count": 8,
   "metadata": {},
   "outputs": [
    {
     "name": "stdout",
     "output_type": "stream",
     "text": [
      "\n",
      "        #########################################################\n",
      "        ###           __  __  ____  ______                    ### \n",
      "        ###          |  \\/  |/ __ \\|  ____/\\    _             ### \n",
      "        ###          | \\  / | |  | | |__ /  \\ _| |_           ### \n",
      "        ###          | |\\/| | |  | |  __/ /\\ \\_   _|          ###\n",
      "        ###          | |  | | |__| | | / ____ \\|_|            ###\n",
      "        ###          |_|  |_|\\____/|_|/_/    \\_\\              ###\n",
      "        ###                                                   ### \n",
      "        ######################################################### \n",
      "       \n",
      " \n",
      "        \n"
     ]
    },
    {
     "name": "stdout",
     "output_type": "stream",
     "text": [
      "\n",
      "\n",
      "Loaded group='group_0' view='DNA' with N=685 samples and D=1155 features...\n",
      "Loaded group='group_0' view='Methylation' with N=685 samples and D=128 features...\n",
      "Loaded group='group_0' view='RNA' with N=685 samples and D=168 features...\n",
      "Loaded group='group_1' view='DNA' with N=208 samples and D=1155 features...\n",
      "Loaded group='group_1' view='Methylation' with N=208 samples and D=128 features...\n",
      "Loaded group='group_1' view='RNA' with N=208 samples and D=168 features...\n",
      "\n",
      "\n",
      "WARNING: 'ard_factors' in model_options should be set to True if using multiple groups unless you are using MEFISTO\n",
      "\n",
      "Model options:\n",
      "- Automatic Relevance Determination prior on the factors: False\n",
      "- Automatic Relevance Determination prior on the weights: True\n",
      "- Spike-and-slab prior on the factors: False\n",
      "- Spike-and-slab prior on the weights: True\n",
      "Likelihoods:\n",
      "- View 0 (DNA): gaussian\n",
      "- View 1 (Methylation): gaussian\n",
      "- View 2 (RNA): gaussian\n",
      "\n",
      "\n",
      "\n",
      "\n",
      "######################################\n",
      "## Training the model with seed 42 ##\n",
      "######################################\n",
      "\n",
      "\n",
      "ELBO before training: -9029079.93 \n",
      "\n",
      "Iteration 1: time=0.12, ELBO=2620061.53, deltaELBO=11649141.467 (129.01803453%), Factors=10\n",
      "Iteration 2: time=0.12, ELBO=2857660.95, deltaELBO=237599.416 (2.63149089%), Factors=10\n",
      "Iteration 3: time=0.11, ELBO=2857663.58, deltaELBO=2.634 (0.00002917%), Factors=10\n",
      "Iteration 4: time=0.11, ELBO=2857663.59, deltaELBO=0.004 (0.00000005%), Factors=10\n",
      "Iteration 5: time=0.11, ELBO=2857663.59, deltaELBO=0.003 (0.00000003%), Factors=10\n",
      "\n",
      "Converged!\n",
      "\n",
      "\n",
      "\n",
      "#######################\n",
      "## Training finished ##\n",
      "#######################\n",
      "\n",
      "\n",
      "Saving model in data/outputs/test_1702826179.1797945.hdf5...\n"
     ]
    }
   ],
   "source": [
    "factors, weights, r2 = train_mofa(combined_data.copy(), RANDOM_STATE)"
   ]
  },
  {
   "cell_type": "markdown",
   "metadata": {},
   "source": [
    "### Предсказание типа рака"
   ]
  },
  {
   "cell_type": "code",
   "execution_count": 9,
   "metadata": {},
   "outputs": [],
   "source": [
    "target_cancer_type = [0] * expression_data_breast.shape[0]\n",
    "target_kidney = [1] * expression_data_kidney.shape[0]\n",
    "\n",
    "target_cancer_type.extend(target_kidney)"
   ]
  },
  {
   "cell_type": "code",
   "execution_count": 10,
   "metadata": {},
   "outputs": [],
   "source": [
    "X_train, X_test, y_train, y_test = train_test_split(factors, target_cancer_type, test_size=0.25, random_state=RANDOM_STATE, stratify=target_cancer_type)"
   ]
  },
  {
   "cell_type": "code",
   "execution_count": 11,
   "metadata": {},
   "outputs": [],
   "source": [
    "cb_classifier = CatBoostClassifier(n_estimators=5000, random_state=RANDOM_STATE, silent=True)\n",
    "cb_classifier.fit(X_train, y_train)\n",
    "\n",
    "y_pred = cb_classifier.predict(X_test)\n",
    "y_probas = cb_classifier.predict_proba(X_test)"
   ]
  },
  {
   "cell_type": "code",
   "execution_count": 12,
   "metadata": {},
   "outputs": [
    {
     "name": "stdout",
     "output_type": "stream",
     "text": [
      "Accuracy: 0.9107142857142857, F1: 0.7872340425531914\n"
     ]
    }
   ],
   "source": [
    "accuracy = accuracy_score(y_test, y_pred)\n",
    "f1 = f1_score(y_test, y_pred)\n",
    "roc_auc = roc_auc_score(y_test, y_probas[:, 1])\n",
    "\n",
    "print(f'Accuracy: {accuracy}, F1: {f1}')"
   ]
  },
  {
   "cell_type": "code",
   "execution_count": 13,
   "metadata": {},
   "outputs": [
    {
     "data": {
      "image/png": "[encoded data removed]",
      "text/plain": [
       "<Figure size 640x480 with 1 Axes>"
      ]
     },
     "metadata": {},
     "output_type": "display_data"
    }
   ],
   "source": [
    "fpr, tpr, thresholds = roc_curve(y_test, y_probas[:, 1])\n",
    "\n",
    "plt.plot(fpr, tpr)\n",
    "plt.title(f'ROC-AUC: {roc_auc}');"
   ]
  },
  {
   "cell_type": "markdown",
   "metadata": {},
   "source": [
    "#### GridSearch по параметрам MOFA и модальнастям"
   ]
  },
  {
   "cell_type": "code",
   "execution_count": 14,
   "metadata": {},
   "outputs": [],
   "source": [
    "params_grid = {\n",
    "    'n_factors': range(10, 31, 10),\n",
    "    'iter': range(1000, 5001, 1000),\n",
    "    'tolerance': [None, 1e-2, 1e-3],\n",
    "    'convergence_mode': ['slow', 'medium', 'fast']\n",
    "}"
   ]
  },
  {
   "cell_type": "code",
   "execution_count": 15,
   "metadata": {},
   "outputs": [
    {
     "name": "stdout",
     "output_type": "stream",
     "text": [
      "{'convergence_mode': 'fast', 'iter': 5000, 'n_factors': 30, 'tolerance': 0.001} 0.9542710196779964\n",
      "Best parameters: {'convergence_mode': 'medium', 'iter': 1000, 'n_factors': 10, 'tolerance': None}\n",
      "Best score: 0.9661225402504472\n"
     ]
    }
   ],
   "source": [
    "best_model = None\n",
    "best_score = float('-inf')\n",
    "best_params = None\n",
    "results = []\n",
    "\n",
    "for params in ParameterGrid(params_grid):\n",
    "    train_params = {k: v for k, v in params.items() if k != 'n_factors'}\n",
    "\n",
    "    factors_, weights_, r2_ = train_mofa(combined_data.copy(\n",
    "    ), factors=params['n_factors'], random_state=RANDOM_STATE, train_params=train_params)\n",
    "\n",
    "    clear_output()\n",
    "\n",
    "    X_train_, X_test_, y_train_, y_test_ = train_test_split(factors_, target_cancer_type, test_size=0.25, random_state=RANDOM_STATE, stratify=target_cancer_type)\n",
    "\n",
    "    score = float('-inf')\n",
    "    try:\n",
    "        cb_classifier.fit(X_train_, y_train_)\n",
    "        y_pred_ = cb_classifier.predict(X_test_)\n",
    "        y_probas_ = cb_classifier.predict_proba(X_test_)\n",
    "        roc_auc = roc_auc_score(y_test_, y_probas_[:, 1])\n",
    "        score = roc_auc\n",
    "\n",
    "        print(params, score)\n",
    "        results.append({'params': params, 'score': score})\n",
    "        \n",
    "    except Exception as e:\n",
    "        print(e)\n",
    "\n",
    "    if score > best_score:\n",
    "        best_score = score\n",
    "        best_params = params\n",
    "\n",
    "grid_search_results = pd.DataFrame(columns=['Params', 'ROC AUC'])\n",
    "grid_search_results['Params'] = list(map(lambda r: r['params'], results))\n",
    "grid_search_results['ROC AUC'] = list(map(lambda r: r['score'], results))\n",
    "grid_search_results.to_csv('grid_search.csv')\n",
    "\n",
    "print(f\"Best parameters: {best_params}\")\n",
    "print(f\"Best score: {best_score}\")"
   ]
  }
 ],
 "metadata": {
  "kernelspec": {
   "display_name": "Python 3",
   "language": "python",
   "name": "python3"
  },
  "language_info": {
   "codemirror_mode": {
    "name": "ipython",
    "version": 3
   },
   "file_extension": ".py",
   "mimetype": "text/x-python",
   "name": "python",
   "nbconvert_exporter": "python",
   "pygments_lexer": "ipython3",
   "version": "3.11.4"
  }
 },
 "nbformat": 4,
 "nbformat_minor": 2
}
