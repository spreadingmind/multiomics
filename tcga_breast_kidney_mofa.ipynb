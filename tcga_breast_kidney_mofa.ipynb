{
 "cells": [
  {
   "cell_type": "code",
   "execution_count": 1,
   "metadata": {},
   "outputs": [],
   "source": [
    "import pandas as pd\n",
    "import numpy as np\n",
    "import matplotlib.pyplot as plt\n",
    "from IPython.display import clear_output\n",
    "from sklearn.model_selection import ParameterGrid\n",
    "from sklearn.metrics import accuracy_score, f1_score, roc_curve, roc_auc_score\n",
    "\n",
    "from catboost import CatBoostClassifier\n",
    "\n",
    "import sys\n",
    "sys.path.append(\"..\")\n",
    "\n",
    "from src.tcga_preprocess_utils import split_patients\n",
    "from src.mofa_utils import train_mofa\n",
    "from src.constants import RANDOM_STATE"
   ]
  },
  {
   "cell_type": "code",
   "execution_count": 2,
   "metadata": {},
   "outputs": [
    {
     "data": {
      "text/html": [
       "<div>\n",
       "<style scoped>\n",
       "    .dataframe tbody tr th:only-of-type {\n",
       "        vertical-align: middle;\n",
       "    }\n",
       "\n",
       "    .dataframe tbody tr th {\n",
       "        vertical-align: top;\n",
       "    }\n",
       "\n",
       "    .dataframe thead th {\n",
       "        text-align: right;\n",
       "    }\n",
       "</style>\n",
       "<table border=\"1\" class=\"dataframe\">\n",
       "  <thead>\n",
       "    <tr style=\"text-align: right;\">\n",
       "      <th></th>\n",
       "      <th>Unnamed: 0</th>\n",
       "      <th>sample</th>\n",
       "      <th>feature</th>\n",
       "      <th>value</th>\n",
       "      <th>view</th>\n",
       "      <th>group</th>\n",
       "    </tr>\n",
       "  </thead>\n",
       "  <tbody>\n",
       "    <tr>\n",
       "      <th>0</th>\n",
       "      <td>0</td>\n",
       "      <td>tcga.3c.aaau</td>\n",
       "      <td>ADAMTSL1|92949</td>\n",
       "      <td>0.105534</td>\n",
       "      <td>DNA</td>\n",
       "      <td>group_0</td>\n",
       "    </tr>\n",
       "    <tr>\n",
       "      <th>1</th>\n",
       "      <td>1</td>\n",
       "      <td>tcga.3c.aali</td>\n",
       "      <td>ADAMTSL1|92949</td>\n",
       "      <td>0.120799</td>\n",
       "      <td>DNA</td>\n",
       "      <td>group_0</td>\n",
       "    </tr>\n",
       "    <tr>\n",
       "      <th>2</th>\n",
       "      <td>2</td>\n",
       "      <td>tcga.3c.aalj</td>\n",
       "      <td>ADAMTSL1|92949</td>\n",
       "      <td>0.117392</td>\n",
       "      <td>DNA</td>\n",
       "      <td>group_0</td>\n",
       "    </tr>\n",
       "    <tr>\n",
       "      <th>3</th>\n",
       "      <td>3</td>\n",
       "      <td>tcga.3c.aalk</td>\n",
       "      <td>ADAMTSL1|92949</td>\n",
       "      <td>0.114669</td>\n",
       "      <td>DNA</td>\n",
       "      <td>group_0</td>\n",
       "    </tr>\n",
       "    <tr>\n",
       "      <th>4</th>\n",
       "      <td>4</td>\n",
       "      <td>tcga.4h.aaak</td>\n",
       "      <td>ADAMTSL1|92949</td>\n",
       "      <td>0.111725</td>\n",
       "      <td>DNA</td>\n",
       "      <td>group_0</td>\n",
       "    </tr>\n",
       "    <tr>\n",
       "      <th>...</th>\n",
       "      <td>...</td>\n",
       "      <td>...</td>\n",
       "      <td>...</td>\n",
       "      <td>...</td>\n",
       "      <td>...</td>\n",
       "      <td>...</td>\n",
       "    </tr>\n",
       "    <tr>\n",
       "      <th>1295738</th>\n",
       "      <td>34939</td>\n",
       "      <td>tcga.mm.a563</td>\n",
       "      <td>hsa-mir-203</td>\n",
       "      <td>0.127541</td>\n",
       "      <td>RNA</td>\n",
       "      <td>group_1</td>\n",
       "    </tr>\n",
       "    <tr>\n",
       "      <th>1295739</th>\n",
       "      <td>34940</td>\n",
       "      <td>tcga.mm.a564</td>\n",
       "      <td>hsa-mir-203</td>\n",
       "      <td>0.123825</td>\n",
       "      <td>RNA</td>\n",
       "      <td>group_1</td>\n",
       "    </tr>\n",
       "    <tr>\n",
       "      <th>1295740</th>\n",
       "      <td>34941</td>\n",
       "      <td>tcga.mm.a84u</td>\n",
       "      <td>hsa-mir-203</td>\n",
       "      <td>0.104273</td>\n",
       "      <td>RNA</td>\n",
       "      <td>group_1</td>\n",
       "    </tr>\n",
       "    <tr>\n",
       "      <th>1295741</th>\n",
       "      <td>34942</td>\n",
       "      <td>tcga.mw.a4ec</td>\n",
       "      <td>hsa-mir-203</td>\n",
       "      <td>0.125738</td>\n",
       "      <td>RNA</td>\n",
       "      <td>group_1</td>\n",
       "    </tr>\n",
       "    <tr>\n",
       "      <th>1295742</th>\n",
       "      <td>34943</td>\n",
       "      <td>tcga.t7.a92i</td>\n",
       "      <td>hsa-mir-203</td>\n",
       "      <td>0.116948</td>\n",
       "      <td>RNA</td>\n",
       "      <td>group_1</td>\n",
       "    </tr>\n",
       "  </tbody>\n",
       "</table>\n",
       "<p>1295743 rows × 6 columns</p>\n",
       "</div>"
      ],
      "text/plain": [
       "         Unnamed: 0        sample         feature     value view    group\n",
       "0                 0  tcga.3c.aaau  ADAMTSL1|92949  0.105534  DNA  group_0\n",
       "1                 1  tcga.3c.aali  ADAMTSL1|92949  0.120799  DNA  group_0\n",
       "2                 2  tcga.3c.aalj  ADAMTSL1|92949  0.117392  DNA  group_0\n",
       "3                 3  tcga.3c.aalk  ADAMTSL1|92949  0.114669  DNA  group_0\n",
       "4                 4  tcga.4h.aaak  ADAMTSL1|92949  0.111725  DNA  group_0\n",
       "...             ...           ...             ...       ...  ...      ...\n",
       "1295738       34939  tcga.mm.a563     hsa-mir-203  0.127541  RNA  group_1\n",
       "1295739       34940  tcga.mm.a564     hsa-mir-203  0.123825  RNA  group_1\n",
       "1295740       34941  tcga.mm.a84u     hsa-mir-203  0.104273  RNA  group_1\n",
       "1295741       34942  tcga.mw.a4ec     hsa-mir-203  0.125738  RNA  group_1\n",
       "1295742       34943  tcga.t7.a92i     hsa-mir-203  0.116948  RNA  group_1\n",
       "\n",
       "[1295743 rows x 6 columns]"
      ]
     },
     "execution_count": 2,
     "metadata": {},
     "output_type": "execute_result"
    }
   ],
   "source": [
    "combined_data = pd.read_csv('data/tsga_breast_kidney_for_mofa.csv')\n",
    "combined_data"
   ]
  },
  {
   "cell_type": "markdown",
   "metadata": {},
   "source": [
    "## 1. MOFA with default params"
   ]
  },
  {
   "cell_type": "code",
   "execution_count": 3,
   "metadata": {},
   "outputs": [],
   "source": [
    "factors, weights, r2 = train_mofa(combined_data.copy(), RANDOM_STATE)\n",
    "clear_output()"
   ]
  },
  {
   "cell_type": "markdown",
   "metadata": {},
   "source": [
    "### Предсказание типа рака"
   ]
  },
  {
   "cell_type": "markdown",
   "metadata": {},
   "source": [
    "Таргеты одинаковые для всех моделей - проверяем на одних и тех же пациентах"
   ]
  },
  {
   "cell_type": "code",
   "execution_count": 4,
   "metadata": {},
   "outputs": [],
   "source": [
    "train_indices, test_indices, target = split_patients()\n",
    "\n",
    "y_train, y_test = target[train_indices], target[test_indices]"
   ]
  },
  {
   "cell_type": "code",
   "execution_count": 6,
   "metadata": {},
   "outputs": [],
   "source": [
    "X_train, X_test = factors[train_indices], factors[test_indices]\n",
    "\n",
    "cb_classifier = CatBoostClassifier(n_estimators=5000, random_state=RANDOM_STATE, silent=True)\n",
    "cb_classifier.fit(X_train, y_train)\n",
    "\n",
    "y_pred = cb_classifier.predict(X_test)\n",
    "y_probas = cb_classifier.predict_proba(X_test)"
   ]
  },
  {
   "cell_type": "code",
   "execution_count": 7,
   "metadata": {},
   "outputs": [
    {
     "name": "stdout",
     "output_type": "stream",
     "text": [
      "Accuracy: 0.9151785714285714, F1: 0.7956989247311829\n"
     ]
    }
   ],
   "source": [
    "accuracy = accuracy_score(y_test, y_pred)\n",
    "f1 = f1_score(y_test, y_pred)\n",
    "roc_auc = roc_auc_score(y_test, y_probas[:, 1])\n",
    "\n",
    "print(f'Accuracy: {accuracy}, F1: {f1}')"
   ]
  },
  {
   "cell_type": "code",
   "execution_count": 8,
   "metadata": {},
   "outputs": [
    {
     "data": {
      "image/png": "[encoded data removed]",
      "text/plain": [
       "<Figure size 640x480 with 1 Axes>"
      ]
     },
     "metadata": {},
     "output_type": "display_data"
    }
   ],
   "source": [
    "fpr, tpr, thresholds = roc_curve(y_test, y_probas[:, 1])\n",
    "\n",
    "plt.plot(fpr, tpr)\n",
    "plt.title(f'ROC-AUC: {roc_auc}');"
   ]
  },
  {
   "cell_type": "markdown",
   "metadata": {},
   "source": [
    "## 2. GridSearch по параметрам MOFA"
   ]
  },
  {
   "cell_type": "code",
   "execution_count": 9,
   "metadata": {},
   "outputs": [],
   "source": [
    "params_grid = {\n",
    "    'n_factors': range(10, 31, 10),\n",
    "    'iter': range(1000, 5001, 1000),\n",
    "    'tolerance': [None, 1e-2, 1e-3],\n",
    "    'convergence_mode': ['slow', 'medium', 'fast']\n",
    "}"
   ]
  },
  {
   "cell_type": "code",
   "execution_count": null,
   "metadata": {},
   "outputs": [],
   "source": [
    "best_model = None\n",
    "best_score = float('-inf')\n",
    "best_params = None\n",
    "results = []\n",
    "\n",
    "for params in ParameterGrid(params_grid):\n",
    "    train_params = {k: v for k, v in params.items() if k != 'n_factors'}\n",
    "\n",
    "    factors_, weights_, r2_ = train_mofa(combined_data.copy(\n",
    "    ), factors=params['n_factors'], random_state=RANDOM_STATE, train_params=train_params)\n",
    "\n",
    "    clear_output()\n",
    "\n",
    "    X_train_, X_test_ = factors_[train_indices], factors_[test_indices]\n",
    "\n",
    "    score = float('-inf')\n",
    "    try:\n",
    "        cb_classifier.fit(X_train_, y_train)\n",
    "        y_pred_ = cb_classifier.predict(X_test_)\n",
    "        y_probas_ = cb_classifier.predict_proba(X_test_)\n",
    "        roc_auc = roc_auc_score(y_test, y_probas_[:, 1])\n",
    "        score = roc_auc\n",
    "\n",
    "        print(params, score)\n",
    "        results.append({'params': params, 'score': score})\n",
    "        \n",
    "    except Exception as e:\n",
    "        print(e)\n",
    "\n",
    "    if score > best_score:\n",
    "        best_score = score\n",
    "        best_params = params\n",
    "\n",
    "grid_search_results = pd.DataFrame(columns=['Params', 'ROC AUC'])\n",
    "grid_search_results['Params'] = list(map(lambda r: r['params'], results))\n",
    "grid_search_results['ROC AUC'] = list(map(lambda r: r['score'], results))\n",
    "grid_search_results.to_csv('mofa_grid_search.csv')\n",
    "\n",
    "print(f\"Best parameters: {best_params}\")\n",
    "print(f\"Best score: {best_score}\")"
   ]
  },
  {
   "cell_type": "markdown",
   "metadata": {},
   "source": [
    "## 3. Результаты лучшей модели"
   ]
  },
  {
   "cell_type": "code",
   "execution_count": 11,
   "metadata": {},
   "outputs": [],
   "source": [
    "best_params = {'convergence_mode': 'medium',\n",
    "               'iter': 1000, 'n_factors': 10, 'tolerance': None}\n",
    "\n",
    "best_train_params = {k: v for k, v in best_params.items() if k != 'n_factors'}\n",
    "\n",
    "factors_best, weights_best, r2_best = train_mofa(combined_data.copy(\n",
    "), factors=best_params['n_factors'], random_state=RANDOM_STATE, train_params=best_train_params)\n",
    "\n",
    "clear_output()"
   ]
  },
  {
   "cell_type": "code",
   "execution_count": 12,
   "metadata": {},
   "outputs": [],
   "source": [
    "X_train_best, X_test_best = factors_best[train_indices], factors_best[test_indices]\n",
    "\n",
    "cb_classifier = CatBoostClassifier(n_estimators=5000, random_state=RANDOM_STATE, silent=True)\n",
    "cb_classifier.fit(X_train_best, y_train)\n",
    "\n",
    "y_pred = cb_classifier.predict(X_test_best)\n",
    "y_probas = cb_classifier.predict_proba(X_test_best)"
   ]
  },
  {
   "cell_type": "code",
   "execution_count": 13,
   "metadata": {},
   "outputs": [
    {
     "name": "stdout",
     "output_type": "stream",
     "text": [
      "Accuracy: 0.9241071428571429, F1: 0.8172043010752689\n"
     ]
    }
   ],
   "source": [
    "accuracy = accuracy_score(y_test, y_pred)\n",
    "f1 = f1_score(y_test, y_pred)\n",
    "roc_auc = roc_auc_score(y_test, y_probas[:, 1])\n",
    "\n",
    "print(f'Accuracy: {accuracy}, F1: {f1}')"
   ]
  },
  {
   "cell_type": "code",
   "execution_count": 14,
   "metadata": {},
   "outputs": [
    {
     "data": {
      "image/png": "[encoded data removed]",
      "text/plain": [
       "<Figure size 640x480 with 1 Axes>"
      ]
     },
     "metadata": {},
     "output_type": "display_data"
    }
   ],
   "source": [
    "fpr, tpr, thresholds = roc_curve(y_test, y_probas[:, 1])\n",
    "\n",
    "plt.plot(fpr, tpr)\n",
    "plt.title(f'ROC-AUC: {np.round(roc_auc, 3)}')\n",
    "plt.xlabel('FPR')\n",
    "plt.ylabel('TPR')\n",
    "plt.fill_between(fpr, tpr, color= \"b\", alpha=0.3);"
   ]
  }
 ],
 "metadata": {
  "kernelspec": {
   "display_name": "Python 3",
   "language": "python",
   "name": "python3"
  },
  "language_info": {
   "codemirror_mode": {
    "name": "ipython",
    "version": 3
   },
   "file_extension": ".py",
   "mimetype": "text/x-python",
   "name": "python",
   "nbconvert_exporter": "python",
   "pygments_lexer": "ipython3",
   "version": "3.11.4"
  }
 },
 "nbformat": 4,
 "nbformat_minor": 2
}
