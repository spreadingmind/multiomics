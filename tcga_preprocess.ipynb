{
 "cells": [
  {
   "cell_type": "code",
   "execution_count": 1,
   "metadata": {},
   "outputs": [],
   "source": [
    "import pandas as pd\n",
    "import numpy as np\n",
    "import matplotlib.pyplot as plt\n",
    "import seaborn as sns\n",
    "from IPython.display import clear_output\n",
    "from sklearn.preprocessing import MinMaxScaler\n",
    "\n",
    "\n",
    "import sys\n",
    "sys.path.append(\"..\")\n",
    "\n",
    "from src.tcga_preprocess_utils import prepare_data, choose_common_patients\n",
    "from src.mofa_utils import transform_df_for_mofa, preprocess_data_for_mofa\n",
    "from src.constants import RANDOM_STATE"
   ]
  },
  {
   "cell_type": "markdown",
   "metadata": {},
   "source": [
    "Делаем общую предобработку для всех моделей"
   ]
  },
  {
   "cell_type": "code",
   "execution_count": 2,
   "metadata": {},
   "outputs": [],
   "source": [
    "expression_data_breast = prepare_data('data/breast/exp')\n",
    "expression_data_breast = preprocess_data_for_mofa(expression_data_breast)\n",
    "\n",
    "methylation_data_breast = prepare_data('data/breast/methy')\n",
    "methylation_data_breast = preprocess_data_for_mofa(methylation_data_breast)\n",
    "\n",
    "mirna_data_breast = prepare_data('data/breast/mirna')\n",
    "mirna_data_breast = preprocess_data_for_mofa(mirna_data_breast)\n",
    "\n",
    "expression_data_kidney = prepare_data('data/kidney/exp')\n",
    "expression_data_kidney = preprocess_data_for_mofa(expression_data_kidney)\n",
    "\n",
    "methylation_data_kidney = prepare_data('data/kidney/methy')\n",
    "methylation_data_kidney = preprocess_data_for_mofa(methylation_data_kidney)\n",
    "\n",
    "mirna_data_kidney = prepare_data('data/kidney/mirna')\n",
    "mirna_data_kidney = preprocess_data_for_mofa(mirna_data_kidney)\n",
    "\n",
    "expression_data_breast, methylation_data_breast, mirna_data_breast = choose_common_patients(\n",
    "    [expression_data_breast, methylation_data_breast, mirna_data_breast])\n",
    "\n",
    "expression_data_kidney, methylation_data_kidney, mirna_data_kidney = choose_common_patients(\n",
    "    [expression_data_kidney, methylation_data_kidney, mirna_data_kidney])"
   ]
  },
  {
   "cell_type": "code",
   "execution_count": 3,
   "metadata": {},
   "outputs": [
    {
     "name": "stdout",
     "output_type": "stream",
     "text": [
      "Кол-во общих генов:  1155\n",
      "Кол-во общих метил:  128\n",
      "Кол-во общих мрнк:  168\n",
      "Кол-во общих пациентов:  0\n"
     ]
    }
   ],
   "source": [
    "common_genes = set(expression_data_breast.columns).intersection(expression_data_kidney.columns)\n",
    "print('Кол-во общих генов: ', len(common_genes))\n",
    "common_meth = set(methylation_data_breast.columns).intersection(methylation_data_kidney.columns)\n",
    "print('Кол-во общих метил: ', len(common_meth))\n",
    "common_mirna = set(mirna_data_breast.columns).intersection(mirna_data_kidney.columns)\n",
    "print('Кол-во общих мрнк: ', len(common_mirna))\n",
    "print('Кол-во общих пациентов: ', len(set(expression_data_breast.index).intersection(expression_data_kidney.index)))"
   ]
  },
  {
   "cell_type": "code",
   "execution_count": 4,
   "metadata": {},
   "outputs": [],
   "source": [
    "expression_data_breast,  expression_data_kidney = expression_data_breast[\n",
    "    common_genes], expression_data_kidney[common_genes]\n",
    "methylation_data_breast, methylation_data_kidney = methylation_data_breast[\n",
    "    common_meth], methylation_data_kidney[common_meth]\n",
    "mirna_data_breast, mirna_data_kidney = mirna_data_breast[\n",
    "    common_mirna], mirna_data_kidney[common_mirna]"
   ]
  },
  {
   "cell_type": "code",
   "execution_count": 5,
   "metadata": {},
   "outputs": [
    {
     "data": {
      "text/html": [
       "<div>\n",
       "<style scoped>\n",
       "    .dataframe tbody tr th:only-of-type {\n",
       "        vertical-align: middle;\n",
       "    }\n",
       "\n",
       "    .dataframe tbody tr th {\n",
       "        vertical-align: top;\n",
       "    }\n",
       "\n",
       "    .dataframe thead th {\n",
       "        text-align: right;\n",
       "    }\n",
       "</style>\n",
       "<table border=\"1\" class=\"dataframe\">\n",
       "  <thead>\n",
       "    <tr style=\"text-align: right;\">\n",
       "      <th></th>\n",
       "      <th>sample</th>\n",
       "      <th>feature</th>\n",
       "      <th>value</th>\n",
       "      <th>view</th>\n",
       "      <th>group</th>\n",
       "    </tr>\n",
       "  </thead>\n",
       "  <tbody>\n",
       "    <tr>\n",
       "      <th>0</th>\n",
       "      <td>tcga.3c.aaau</td>\n",
       "      <td>ADAMTSL1|92949</td>\n",
       "      <td>0.105534</td>\n",
       "      <td>DNA</td>\n",
       "      <td>group_0</td>\n",
       "    </tr>\n",
       "    <tr>\n",
       "      <th>1</th>\n",
       "      <td>tcga.3c.aali</td>\n",
       "      <td>ADAMTSL1|92949</td>\n",
       "      <td>0.120799</td>\n",
       "      <td>DNA</td>\n",
       "      <td>group_0</td>\n",
       "    </tr>\n",
       "    <tr>\n",
       "      <th>2</th>\n",
       "      <td>tcga.3c.aalj</td>\n",
       "      <td>ADAMTSL1|92949</td>\n",
       "      <td>0.117392</td>\n",
       "      <td>DNA</td>\n",
       "      <td>group_0</td>\n",
       "    </tr>\n",
       "    <tr>\n",
       "      <th>3</th>\n",
       "      <td>tcga.3c.aalk</td>\n",
       "      <td>ADAMTSL1|92949</td>\n",
       "      <td>0.114669</td>\n",
       "      <td>DNA</td>\n",
       "      <td>group_0</td>\n",
       "    </tr>\n",
       "    <tr>\n",
       "      <th>4</th>\n",
       "      <td>tcga.4h.aaak</td>\n",
       "      <td>ADAMTSL1|92949</td>\n",
       "      <td>0.111725</td>\n",
       "      <td>DNA</td>\n",
       "      <td>group_0</td>\n",
       "    </tr>\n",
       "    <tr>\n",
       "      <th>...</th>\n",
       "      <td>...</td>\n",
       "      <td>...</td>\n",
       "      <td>...</td>\n",
       "      <td>...</td>\n",
       "      <td>...</td>\n",
       "    </tr>\n",
       "    <tr>\n",
       "      <th>34939</th>\n",
       "      <td>tcga.mm.a563</td>\n",
       "      <td>hsa-mir-203</td>\n",
       "      <td>0.127541</td>\n",
       "      <td>RNA</td>\n",
       "      <td>group_1</td>\n",
       "    </tr>\n",
       "    <tr>\n",
       "      <th>34940</th>\n",
       "      <td>tcga.mm.a564</td>\n",
       "      <td>hsa-mir-203</td>\n",
       "      <td>0.123825</td>\n",
       "      <td>RNA</td>\n",
       "      <td>group_1</td>\n",
       "    </tr>\n",
       "    <tr>\n",
       "      <th>34941</th>\n",
       "      <td>tcga.mm.a84u</td>\n",
       "      <td>hsa-mir-203</td>\n",
       "      <td>0.104273</td>\n",
       "      <td>RNA</td>\n",
       "      <td>group_1</td>\n",
       "    </tr>\n",
       "    <tr>\n",
       "      <th>34942</th>\n",
       "      <td>tcga.mw.a4ec</td>\n",
       "      <td>hsa-mir-203</td>\n",
       "      <td>0.125738</td>\n",
       "      <td>RNA</td>\n",
       "      <td>group_1</td>\n",
       "    </tr>\n",
       "    <tr>\n",
       "      <th>34943</th>\n",
       "      <td>tcga.t7.a92i</td>\n",
       "      <td>hsa-mir-203</td>\n",
       "      <td>0.116948</td>\n",
       "      <td>RNA</td>\n",
       "      <td>group_1</td>\n",
       "    </tr>\n",
       "  </tbody>\n",
       "</table>\n",
       "<p>1295743 rows × 5 columns</p>\n",
       "</div>"
      ],
      "text/plain": [
       "             sample         feature     value view    group\n",
       "0      tcga.3c.aaau  ADAMTSL1|92949  0.105534  DNA  group_0\n",
       "1      tcga.3c.aali  ADAMTSL1|92949  0.120799  DNA  group_0\n",
       "2      tcga.3c.aalj  ADAMTSL1|92949  0.117392  DNA  group_0\n",
       "3      tcga.3c.aalk  ADAMTSL1|92949  0.114669  DNA  group_0\n",
       "4      tcga.4h.aaak  ADAMTSL1|92949  0.111725  DNA  group_0\n",
       "...             ...             ...       ...  ...      ...\n",
       "34939  tcga.mm.a563     hsa-mir-203  0.127541  RNA  group_1\n",
       "34940  tcga.mm.a564     hsa-mir-203  0.123825  RNA  group_1\n",
       "34941  tcga.mm.a84u     hsa-mir-203  0.104273  RNA  group_1\n",
       "34942  tcga.mw.a4ec     hsa-mir-203  0.125738  RNA  group_1\n",
       "34943  tcga.t7.a92i     hsa-mir-203  0.116948  RNA  group_1\n",
       "\n",
       "[1295743 rows x 5 columns]"
      ]
     },
     "execution_count": 5,
     "metadata": {},
     "output_type": "execute_result"
    }
   ],
   "source": [
    "transformed_expression_data_breast = transform_df_for_mofa(\n",
    "    expression_data_breast.copy(), 'DNA')\n",
    "transformed_methylation_breast = transform_df_for_mofa(\n",
    "    methylation_data_breast.copy(), 'Methylation')\n",
    "transformed_mirna_data_breast = transform_df_for_mofa(\n",
    "    mirna_data_breast.copy(), 'RNA')\n",
    "combined_data_breast = pd.concat([transformed_expression_data_breast,\n",
    "                                  transformed_methylation_breast, transformed_mirna_data_breast], axis=0)\n",
    "combined_data_breast['group'] = 'group_0'\n",
    "\n",
    "transformed_expression_data_kidney = transform_df_for_mofa(\n",
    "    expression_data_kidney.copy(), 'DNA')\n",
    "transformed_methylation_kidney  = transform_df_for_mofa(\n",
    "    methylation_data_kidney.copy(), 'Methylation')\n",
    "transformed_mirna_data_kidney  = transform_df_for_mofa(\n",
    "    mirna_data_kidney.copy(), 'RNA')\n",
    "combined_data_kidney = pd.concat([transformed_expression_data_kidney,\n",
    "                                  transformed_methylation_kidney, transformed_mirna_data_kidney], axis=0)\n",
    "combined_data_kidney['group'] = 'group_1'\n",
    "\n",
    "combined_data = pd.concat([combined_data_breast, combined_data_kidney], axis=0)\n",
    "scaler = MinMaxScaler()\n",
    "combined_data['value'] = scaler.fit_transform(combined_data[['value']])\n",
    "\n",
    "combined_data"
   ]
  },
  {
   "cell_type": "markdown",
   "metadata": {},
   "source": [
    "Сохраняем готовый датафрейм для MOFA"
   ]
  },
  {
   "cell_type": "code",
   "execution_count": 6,
   "metadata": {},
   "outputs": [],
   "source": [
    "combined_data.to_csv('data/tsga_breast_kidney_for_mofa.csv')"
   ]
  },
  {
   "cell_type": "markdown",
   "metadata": {},
   "source": [
    "Сохраняем все предобработанные группы данных для других моделей"
   ]
  },
  {
   "cell_type": "code",
   "execution_count": null,
   "metadata": {},
   "outputs": [],
   "source": [
    "views = ['DNA', 'Methylation', 'RNA']\n",
    "groups = ['group_0', 'group_1']\n",
    "\n",
    "for group in groups:\n",
    "    for view in views:\n",
    "        df_unmelted = combined_data[(combined_data.view == view) & (combined_data.group == group)].drop(columns=['view', 'group']).pivot(index='sample', columns='feature')\n",
    "        df_unmelted = df_unmelted['value'].reset_index()\n",
    "        df_unmelted.columns.name = None\n",
    "        group_name = 'breast' if group == 'group_0' else 'kidney'\n",
    "        df_unmelted.to_csv(f'data/{group_name}/{view}_{group_name}.csv')"
   ]
  }
 ],
 "metadata": {
  "kernelspec": {
   "display_name": "base",
   "language": "python",
   "name": "python3"
  },
  "language_info": {
   "codemirror_mode": {
    "name": "ipython",
    "version": 3
   },
   "file_extension": ".py",
   "mimetype": "text/x-python",
   "name": "python",
   "nbconvert_exporter": "python",
   "pygments_lexer": "ipython3",
   "version": "3.11.4"
  }
 },
 "nbformat": 4,
 "nbformat_minor": 2
}
