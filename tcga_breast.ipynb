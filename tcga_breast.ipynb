{
 "cells": [
  {
   "cell_type": "code",
   "execution_count": 1,
   "metadata": {},
   "outputs": [],
   "source": [
    "import pandas as pd\n",
    "import numpy as np\n",
    "import time\n",
    "import matplotlib.pyplot as plt\n",
    "import seaborn as sns\n",
    "\n",
    "from sklearn.metrics import roc_curve, roc_auc_score, mean_absolute_percentage_error\n",
    "\n",
    "from catboost import CatBoostClassifier, CatBoostRegressor\n",
    "from IPython.display import clear_output\n",
    "\n",
    "import sys\n",
    "sys.path.append(\"..\")\n",
    "\n",
    "from src.mofa_utils import train_mofa\n",
    "from src.tcga_preprocess_utils import split_patients_for_survival_prediction\n",
    "from src.constants import RANDOM_STATE"
   ]
  },
  {
   "cell_type": "code",
   "execution_count": 2,
   "metadata": {},
   "outputs": [],
   "source": [
    "survival_data_breast = pd.read_csv('data/breast/survival_data_breast.csv')\n",
    "mofa_data_breast = pd.read_csv('data/breast/mofa_data_breast.csv')\n",
    "clinical_data_breast = pd.read_csv('data/breast/clinical_data_breast.csv')\n",
    "\n",
    "assert (survival_data_breast['PatientID'] == mofa_data_breast['sample'].drop_duplicates()).all()\n",
    "assert (clinical_data_breast['sampleID'] == mofa_data_breast['sample'].drop_duplicates()).all()"
   ]
  },
  {
   "cell_type": "code",
   "execution_count": 3,
   "metadata": {},
   "outputs": [],
   "source": [
    "train_indexes, test_indexes = split_patients_for_survival_prediction(survival_data_breast)"
   ]
  },
  {
   "cell_type": "code",
   "execution_count": 6,
   "metadata": {},
   "outputs": [],
   "source": [
    "N_FACTORS = 20\n",
    "TARGET_RELATED_CLINICAL_COLS = ['Days_to_Date_of_Last_Contact_nature2012', 'Days_to_date_of_Death_nature2012']\n",
    "CATEGORICAL_CLINICAL_FEATURES = ['AJCC_Stage_nature2012', 'Converted_Stage_nature2012', 'ER_Status_nature2012', 'Gender_nature2012', 'HER2_Final_Status_nature2012', 'Metastasis_nature2012', 'Node_nature2012', 'Tumor_nature2012']\n",
    "NUMERICAL_CLINICAL_FEATURES = ['Age_at_Initial_Pathologic_Diagnosis_nature2012']"
   ]
  },
  {
   "cell_type": "code",
   "execution_count": 23,
   "metadata": {},
   "outputs": [
    {
     "data": {
      "text/html": [
       "<div>\n",
       "<style scoped>\n",
       "    .dataframe tbody tr th:only-of-type {\n",
       "        vertical-align: middle;\n",
       "    }\n",
       "\n",
       "    .dataframe tbody tr th {\n",
       "        vertical-align: top;\n",
       "    }\n",
       "\n",
       "    .dataframe thead th {\n",
       "        text-align: right;\n",
       "    }\n",
       "</style>\n",
       "<table border=\"1\" class=\"dataframe\">\n",
       "  <thead>\n",
       "    <tr style=\"text-align: right;\">\n",
       "      <th></th>\n",
       "      <th>Age_at_Initial_Pathologic_Diagnosis_nature2012</th>\n",
       "      <th>AJCC_Stage_nature2012</th>\n",
       "      <th>Converted_Stage_nature2012</th>\n",
       "      <th>ER_Status_nature2012</th>\n",
       "      <th>Gender_nature2012</th>\n",
       "      <th>HER2_Final_Status_nature2012</th>\n",
       "      <th>Metastasis_nature2012</th>\n",
       "      <th>Node_nature2012</th>\n",
       "      <th>Tumor_nature2012</th>\n",
       "    </tr>\n",
       "  </thead>\n",
       "  <tbody>\n",
       "    <tr>\n",
       "      <th>0</th>\n",
       "      <td>NaN</td>\n",
       "      <td>missing</td>\n",
       "      <td>missing</td>\n",
       "      <td>missing</td>\n",
       "      <td>missing</td>\n",
       "      <td>missing</td>\n",
       "      <td>missing</td>\n",
       "      <td>missing</td>\n",
       "      <td>missing</td>\n",
       "    </tr>\n",
       "    <tr>\n",
       "      <th>1</th>\n",
       "      <td>NaN</td>\n",
       "      <td>missing</td>\n",
       "      <td>missing</td>\n",
       "      <td>missing</td>\n",
       "      <td>missing</td>\n",
       "      <td>missing</td>\n",
       "      <td>missing</td>\n",
       "      <td>missing</td>\n",
       "      <td>missing</td>\n",
       "    </tr>\n",
       "    <tr>\n",
       "      <th>2</th>\n",
       "      <td>NaN</td>\n",
       "      <td>missing</td>\n",
       "      <td>missing</td>\n",
       "      <td>missing</td>\n",
       "      <td>missing</td>\n",
       "      <td>missing</td>\n",
       "      <td>missing</td>\n",
       "      <td>missing</td>\n",
       "      <td>missing</td>\n",
       "    </tr>\n",
       "    <tr>\n",
       "      <th>3</th>\n",
       "      <td>NaN</td>\n",
       "      <td>missing</td>\n",
       "      <td>missing</td>\n",
       "      <td>missing</td>\n",
       "      <td>missing</td>\n",
       "      <td>missing</td>\n",
       "      <td>missing</td>\n",
       "      <td>missing</td>\n",
       "      <td>missing</td>\n",
       "    </tr>\n",
       "    <tr>\n",
       "      <th>4</th>\n",
       "      <td>NaN</td>\n",
       "      <td>missing</td>\n",
       "      <td>missing</td>\n",
       "      <td>missing</td>\n",
       "      <td>missing</td>\n",
       "      <td>missing</td>\n",
       "      <td>missing</td>\n",
       "      <td>missing</td>\n",
       "      <td>missing</td>\n",
       "    </tr>\n",
       "    <tr>\n",
       "      <th>...</th>\n",
       "      <td>...</td>\n",
       "      <td>...</td>\n",
       "      <td>...</td>\n",
       "      <td>...</td>\n",
       "      <td>...</td>\n",
       "      <td>...</td>\n",
       "      <td>...</td>\n",
       "      <td>...</td>\n",
       "      <td>...</td>\n",
       "    </tr>\n",
       "    <tr>\n",
       "      <th>615</th>\n",
       "      <td>NaN</td>\n",
       "      <td>missing</td>\n",
       "      <td>missing</td>\n",
       "      <td>missing</td>\n",
       "      <td>missing</td>\n",
       "      <td>missing</td>\n",
       "      <td>missing</td>\n",
       "      <td>missing</td>\n",
       "      <td>missing</td>\n",
       "    </tr>\n",
       "    <tr>\n",
       "      <th>616</th>\n",
       "      <td>NaN</td>\n",
       "      <td>missing</td>\n",
       "      <td>missing</td>\n",
       "      <td>missing</td>\n",
       "      <td>missing</td>\n",
       "      <td>missing</td>\n",
       "      <td>missing</td>\n",
       "      <td>missing</td>\n",
       "      <td>missing</td>\n",
       "    </tr>\n",
       "    <tr>\n",
       "      <th>617</th>\n",
       "      <td>NaN</td>\n",
       "      <td>missing</td>\n",
       "      <td>missing</td>\n",
       "      <td>missing</td>\n",
       "      <td>missing</td>\n",
       "      <td>missing</td>\n",
       "      <td>missing</td>\n",
       "      <td>missing</td>\n",
       "      <td>missing</td>\n",
       "    </tr>\n",
       "    <tr>\n",
       "      <th>618</th>\n",
       "      <td>NaN</td>\n",
       "      <td>missing</td>\n",
       "      <td>missing</td>\n",
       "      <td>missing</td>\n",
       "      <td>missing</td>\n",
       "      <td>missing</td>\n",
       "      <td>missing</td>\n",
       "      <td>missing</td>\n",
       "      <td>missing</td>\n",
       "    </tr>\n",
       "    <tr>\n",
       "      <th>619</th>\n",
       "      <td>NaN</td>\n",
       "      <td>missing</td>\n",
       "      <td>missing</td>\n",
       "      <td>missing</td>\n",
       "      <td>missing</td>\n",
       "      <td>missing</td>\n",
       "      <td>missing</td>\n",
       "      <td>missing</td>\n",
       "      <td>missing</td>\n",
       "    </tr>\n",
       "  </tbody>\n",
       "</table>\n",
       "<p>620 rows × 9 columns</p>\n",
       "</div>"
      ],
      "text/plain": [
       "     Age_at_Initial_Pathologic_Diagnosis_nature2012 AJCC_Stage_nature2012  \\\n",
       "0                                               NaN               missing   \n",
       "1                                               NaN               missing   \n",
       "2                                               NaN               missing   \n",
       "3                                               NaN               missing   \n",
       "4                                               NaN               missing   \n",
       "..                                              ...                   ...   \n",
       "615                                             NaN               missing   \n",
       "616                                             NaN               missing   \n",
       "617                                             NaN               missing   \n",
       "618                                             NaN               missing   \n",
       "619                                             NaN               missing   \n",
       "\n",
       "    Converted_Stage_nature2012 ER_Status_nature2012 Gender_nature2012  \\\n",
       "0                      missing              missing           missing   \n",
       "1                      missing              missing           missing   \n",
       "2                      missing              missing           missing   \n",
       "3                      missing              missing           missing   \n",
       "4                      missing              missing           missing   \n",
       "..                         ...                  ...               ...   \n",
       "615                    missing              missing           missing   \n",
       "616                    missing              missing           missing   \n",
       "617                    missing              missing           missing   \n",
       "618                    missing              missing           missing   \n",
       "619                    missing              missing           missing   \n",
       "\n",
       "    HER2_Final_Status_nature2012 Metastasis_nature2012 Node_nature2012  \\\n",
       "0                        missing               missing         missing   \n",
       "1                        missing               missing         missing   \n",
       "2                        missing               missing         missing   \n",
       "3                        missing               missing         missing   \n",
       "4                        missing               missing         missing   \n",
       "..                           ...                   ...             ...   \n",
       "615                      missing               missing         missing   \n",
       "616                      missing               missing         missing   \n",
       "617                      missing               missing         missing   \n",
       "618                      missing               missing         missing   \n",
       "619                      missing               missing         missing   \n",
       "\n",
       "    Tumor_nature2012  \n",
       "0            missing  \n",
       "1            missing  \n",
       "2            missing  \n",
       "3            missing  \n",
       "4            missing  \n",
       "..               ...  \n",
       "615          missing  \n",
       "616          missing  \n",
       "617          missing  \n",
       "618          missing  \n",
       "619          missing  \n",
       "\n",
       "[620 rows x 9 columns]"
      ]
     },
     "execution_count": 23,
     "metadata": {},
     "output_type": "execute_result"
    }
   ],
   "source": [
    "clinical_features = clinical_data_breast[NUMERICAL_CLINICAL_FEATURES + CATEGORICAL_CLINICAL_FEATURES]\n",
    "\n",
    "for col in clinical_features.columns[1:]:\n",
    "    clinical_features[col] = clinical_features[col].fillna('missing')\n",
    "\n",
    "clinical_features"
   ]
  },
  {
   "cell_type": "markdown",
   "metadata": {},
   "source": [
    "### MOFA"
   ]
  },
  {
   "cell_type": "markdown",
   "metadata": {},
   "source": [
    "Обучаем модель"
   ]
  },
  {
   "cell_type": "code",
   "execution_count": 9,
   "metadata": {},
   "outputs": [],
   "source": [
    "factors, weights, r2 = train_mofa(mofa_data_breast.copy(), RANDOM_STATE, factors=N_FACTORS)\n",
    "clear_output()"
   ]
  },
  {
   "cell_type": "markdown",
   "metadata": {},
   "source": [
    "Классификация: предсказание смерти"
   ]
  },
  {
   "cell_type": "code",
   "execution_count": 24,
   "metadata": {},
   "outputs": [],
   "source": [
    "np_df = pd.DataFrame(factors)\n",
    "combined_df = pd.concat([np_df, clinical_features], axis=1)\n",
    "cat_features_indices = list(range(N_FACTORS + 1, combined_df.shape[1]))"
   ]
  },
  {
   "cell_type": "code",
   "execution_count": 25,
   "metadata": {},
   "outputs": [],
   "source": [
    "X_train, X_test, y_train, y_test = combined_df.values[train_indexes], combined_df.values[test_indexes], survival_data_breast[\n",
    "    'Death'][train_indexes], survival_data_breast['Death'][test_indexes]"
   ]
  },
  {
   "cell_type": "code",
   "execution_count": 26,
   "metadata": {},
   "outputs": [],
   "source": [
    "cb_classifier = CatBoostClassifier(n_estimators=5000, random_state=RANDOM_STATE, silent=True, cat_features=cat_features_indices)\n",
    "cb_classifier.fit(X_train, y_train)\n",
    "\n",
    "y_pred = cb_classifier.predict(X_test)\n",
    "y_probas = cb_classifier.predict_proba(X_test)"
   ]
  },
  {
   "cell_type": "code",
   "execution_count": 27,
   "metadata": {},
   "outputs": [
    {
     "data": {
      "image/png": "[encoded data removed]",
      "text/plain": [
       "<Figure size 640x480 with 1 Axes>"
      ]
     },
     "metadata": {},
     "output_type": "display_data"
    }
   ],
   "source": [
    "roc_auc = roc_auc_score(y_test, y_probas[:, 1])\n",
    "\n",
    "fpr, tpr, thresholds = roc_curve(y_test.values, y_probas[:, 1])\n",
    "\n",
    "plt.plot(fpr, tpr)\n",
    "plt.title(f'ROC-AUC: {np.round(roc_auc, 3)}')\n",
    "plt.xlabel('FPR')\n",
    "plt.ylabel('TPR')\n",
    "plt.fill_between(fpr, tpr, color= \"b\", alpha=0.3);"
   ]
  },
  {
   "cell_type": "markdown",
   "metadata": {},
   "source": [
    "Регрессия: предсказание survival"
   ]
  },
  {
   "cell_type": "code",
   "execution_count": 30,
   "metadata": {},
   "outputs": [],
   "source": [
    "X_train, X_test, y_train, y_test = combined_df.values[train_indexes], combined_df.values[test_indexes], survival_data_breast[\n",
    "    'Survival'][train_indexes], survival_data_breast['Survival'][test_indexes]"
   ]
  },
  {
   "cell_type": "code",
   "execution_count": 31,
   "metadata": {},
   "outputs": [],
   "source": [
    "cb_regressor = CatBoostRegressor(n_estimators=5000, random_state=RANDOM_STATE, silent=True, cat_features=cat_features_indices)\n",
    "cb_regressor.fit(X_train, y_train)\n",
    "\n",
    "y_pred = cb_regressor.predict(X_test)"
   ]
  },
  {
   "cell_type": "code",
   "execution_count": 32,
   "metadata": {},
   "outputs": [
    {
     "name": "stdout",
     "output_type": "stream",
     "text": [
      "MAPE:  124.45348891535713\n"
     ]
    }
   ],
   "source": [
    "print('MAPE: ', mean_absolute_percentage_error(y_true=y_test, y_pred=y_pred) * 100)"
   ]
  },
  {
   "cell_type": "markdown",
   "metadata": {},
   "source": [
    "### RGCCA"
   ]
  },
  {
   "cell_type": "code",
   "execution_count": 34,
   "metadata": {},
   "outputs": [],
   "source": [
    "dna_breast = pd.read_csv('data/breast/expression_data_breast.csv', index_col=[0]).fillna(0.)\n",
    "rna_breast = pd.read_csv('data/breast/mirna_data_breast.csv', index_col=[0]).fillna(0.)\n",
    "methylation_breast = pd.read_csv('data/breast/methylation_data_breast.csv', index_col=[0]).fillna(0.)\n"
   ]
  },
  {
   "cell_type": "code",
   "execution_count": 35,
   "metadata": {},
   "outputs": [],
   "source": [
    "from mvlearn.embed import MCCA\n",
    "\n",
    "X_breast = [dna_breast.values, rna_breast.values, methylation_breast.values]\n",
    "cca = MCCA(n_components=N_FACTORS, regs='oas', multiview_output=False)\n",
    "\n",
    "X_breast_cca = cca.fit_transform(X_breast)"
   ]
  },
  {
   "cell_type": "code",
   "execution_count": 36,
   "metadata": {},
   "outputs": [],
   "source": [
    "np_df = pd.DataFrame(X_breast_cca)\n",
    "combined_df = pd.concat([np_df, clinical_features], axis=1)\n",
    "cat_features_indices = list(range(N_FACTORS + 1, combined_df.shape[1]))"
   ]
  },
  {
   "cell_type": "code",
   "execution_count": 38,
   "metadata": {},
   "outputs": [],
   "source": [
    "X_train, X_test, y_train, y_test = combined_df.values[train_indexes], combined_df.values[test_indexes], survival_data_breast[\n",
    "    'Death'][train_indexes], survival_data_breast['Death'][test_indexes]"
   ]
  },
  {
   "cell_type": "code",
   "execution_count": 39,
   "metadata": {},
   "outputs": [],
   "source": [
    "cb_classifier = CatBoostClassifier(n_estimators=5000, random_state=RANDOM_STATE, silent=True, cat_features=cat_features_indices)\n",
    "cb_classifier.fit(X_train, y_train)\n",
    "\n",
    "y_pred = cb_classifier.predict(X_test)\n",
    "y_probas = cb_classifier.predict_proba(X_test)"
   ]
  },
  {
   "cell_type": "code",
   "execution_count": 40,
   "metadata": {},
   "outputs": [
    {
     "data": {
      "image/png": "[encoded data removed]",
      "text/plain": [
       "<Figure size 640x480 with 1 Axes>"
      ]
     },
     "metadata": {},
     "output_type": "display_data"
    }
   ],
   "source": [
    "roc_auc = roc_auc_score(y_test, y_probas[:, 1])\n",
    "fpr, tpr, thresholds = roc_curve(y_test.values, y_probas[:, 1])\n",
    "\n",
    "plt.plot(fpr, tpr)\n",
    "plt.title(f'ROC-AUC: {np.round(roc_auc, 3)}')\n",
    "plt.xlabel('FPR')\n",
    "plt.ylabel('TPR')\n",
    "plt.fill_between(fpr, tpr, color= \"b\", alpha=0.3);"
   ]
  },
  {
   "cell_type": "code",
   "execution_count": 41,
   "metadata": {},
   "outputs": [],
   "source": [
    "X_train, X_test, y_train, y_test = combined_df.values[train_indexes], combined_df.values[test_indexes], survival_data_breast[\n",
    "    'Survival'][train_indexes], survival_data_breast['Survival'][test_indexes]"
   ]
  },
  {
   "cell_type": "code",
   "execution_count": 42,
   "metadata": {},
   "outputs": [],
   "source": [
    "cb_regressor = CatBoostRegressor(n_estimators=5000, random_state=RANDOM_STATE, silent=True, cat_features=cat_features_indices)\n",
    "cb_regressor.fit(X_train, y_train)\n",
    "\n",
    "y_pred = cb_regressor.predict(X_test)"
   ]
  },
  {
   "cell_type": "code",
   "execution_count": 43,
   "metadata": {},
   "outputs": [
    {
     "name": "stdout",
     "output_type": "stream",
     "text": [
      "MAPE:  111.00339177490031\n"
     ]
    }
   ],
   "source": [
    "print('MAPE: ', mean_absolute_percentage_error(y_true=y_test, y_pred=y_pred) * 100)"
   ]
  },
  {
   "cell_type": "markdown",
   "metadata": {},
   "source": [
    "### PCA"
   ]
  },
  {
   "cell_type": "code",
   "execution_count": 44,
   "metadata": {},
   "outputs": [],
   "source": [
    "from sklearn.decomposition import PCA\n",
    "pca = PCA(n_components=N_FACTORS)\n",
    "\n",
    "expr_low = pca.fit_transform(dna_breast.values)\n",
    "rna_low = pca.fit_transform(rna_breast.values)\n",
    "methyl_low = pca.fit_transform(methylation_breast.values)\n",
    "\n",
    "X_breast_low = np.hstack([expr_low, rna_low, methyl_low])"
   ]
  },
  {
   "cell_type": "code",
   "execution_count": 47,
   "metadata": {},
   "outputs": [],
   "source": [
    "np_df = pd.DataFrame(X_breast_low)\n",
    "combined_df = pd.concat([np_df, clinical_features], axis=1)\n",
    "cat_features_indices = list(range(N_FACTORS * 3 + 1, combined_df.shape[1]))"
   ]
  },
  {
   "cell_type": "code",
   "execution_count": 50,
   "metadata": {},
   "outputs": [],
   "source": [
    "X_train, X_test, y_train, y_test = combined_df.values[train_indexes], combined_df.values[test_indexes], survival_data_breast[\n",
    "    'Survival'][train_indexes], survival_data_breast['Survival'][test_indexes]"
   ]
  },
  {
   "cell_type": "code",
   "execution_count": 52,
   "metadata": {},
   "outputs": [],
   "source": [
    "cb_regressor = CatBoostRegressor(n_estimators=5000, random_state=RANDOM_STATE, silent=True, cat_features=cat_features_indices)\n",
    "cb_regressor.fit(X_train, y_train)\n",
    "\n",
    "y_pred = cb_regressor.predict(X_test)"
   ]
  },
  {
   "cell_type": "code",
   "execution_count": 53,
   "metadata": {},
   "outputs": [
    {
     "name": "stdout",
     "output_type": "stream",
     "text": [
      "MAPE:  122.93664279715858\n"
     ]
    }
   ],
   "source": [
    "print('MAPE: ', mean_absolute_percentage_error(y_true=y_test, y_pred=y_pred) * 100)"
   ]
  },
  {
   "cell_type": "markdown",
   "metadata": {},
   "source": [
    "### Без факторизации"
   ]
  },
  {
   "cell_type": "code",
   "execution_count": 55,
   "metadata": {},
   "outputs": [],
   "source": [
    "expr = dna_breast.values\n",
    "rna = rna_breast.values\n",
    "methyl = methylation_breast.values\n",
    "\n",
    "X_breast_all = np.hstack([expr, rna, methyl])"
   ]
  },
  {
   "cell_type": "code",
   "execution_count": 60,
   "metadata": {},
   "outputs": [],
   "source": [
    "np_df = pd.DataFrame(X_breast_all)\n",
    "combined_df = pd.concat([np_df, clinical_features], axis=1)\n",
    "cat_features_indices = list(range(X_breast_all.shape[1] + 1, combined_df.shape[1]))"
   ]
  },
  {
   "cell_type": "code",
   "execution_count": 64,
   "metadata": {},
   "outputs": [],
   "source": [
    "X_train, X_test, y_train, y_test = combined_df.values[train_indexes], combined_df.values[test_indexes], survival_data_breast[\n",
    "    'Survival'][train_indexes], survival_data_breast['Survival'][test_indexes]"
   ]
  },
  {
   "cell_type": "code",
   "execution_count": 65,
   "metadata": {},
   "outputs": [],
   "source": [
    "cb_regressor = CatBoostRegressor(n_estimators=5000, random_state=RANDOM_STATE, silent=True, cat_features=cat_features_indices)\n",
    "cb_regressor.fit(X_train, y_train)\n",
    "\n",
    "y_pred = cb_regressor.predict(X_test)"
   ]
  },
  {
   "cell_type": "code",
   "execution_count": 66,
   "metadata": {},
   "outputs": [
    {
     "name": "stdout",
     "output_type": "stream",
     "text": [
      "MAPE:  119.44806649387083\n"
     ]
    }
   ],
   "source": [
    "print('MAPE: ', mean_absolute_percentage_error(y_true=y_test, y_pred=y_pred) * 100)"
   ]
  }
 ],
 "metadata": {
  "kernelspec": {
   "display_name": "Python 3",
   "language": "python",
   "name": "python3"
  },
  "language_info": {
   "codemirror_mode": {
    "name": "ipython",
    "version": 3
   },
   "file_extension": ".py",
   "mimetype": "text/x-python",
   "name": "python",
   "nbconvert_exporter": "python",
   "pygments_lexer": "ipython3",
   "version": "3.11.4"
  }
 },
 "nbformat": 4,
 "nbformat_minor": 2
}
